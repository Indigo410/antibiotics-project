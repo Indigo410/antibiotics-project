{
 "cells": [
  {
   "cell_type": "code",
   "execution_count": 2,
   "metadata": {},
   "outputs": [],
   "source": [
    "%load_ext autoreload\n",
    "%autoreload 2"
   ]
  },
  {
   "cell_type": "code",
   "execution_count": 3,
   "metadata": {},
   "outputs": [],
   "source": [
    "from simulation import Simulation"
   ]
  },
  {
   "cell_type": "code",
   "execution_count": 4,
   "metadata": {},
   "outputs": [],
   "source": [
    "var={'n':5,\n",
    "     'p_otu':8, \n",
    "     'p_metabolite':4}"
   ]
  },
  {
   "cell_type": "code",
   "execution_count": 5,
   "metadata": {},
   "outputs": [],
   "source": [
    "s = Simulation(**var)"
   ]
  },
  {
   "cell_type": "code",
   "execution_count": 6,
   "metadata": {},
   "outputs": [
    {
     "data": {
      "text/plain": [
       "(array([[-3.02534261, -1.91809235, -5.55257201, -6.88578416, -5.55501989],\n",
       "        [ 0.28075003,  0.30813619,  0.6449288 ,  0.91776775,  0.54802234],\n",
       "        [ 0.62235836,  0.67042552,  0.53133894,  0.46788772,  0.17166241],\n",
       "        [ 0.59097028,  0.59457867,  0.4455567 ,  0.27371659,  0.97363059],\n",
       "        [ 0.78862809,  0.89540907,  0.39405722,  0.89355294,  0.54152431],\n",
       "        [ 0.36126531,  0.4262392 ,  0.49055512,  0.05454066,  0.72241406],\n",
       "        [ 0.03564732,  0.96697583,  0.61704369,  0.80279109,  0.87842111],\n",
       "        [ 0.38635529,  0.94656416,  0.80960738,  0.60136922,  0.99871294]]),\n",
       " array([[1.32968739, 0.18345751, 1.66673153, 3.08469684, 1.76735591],\n",
       "        [0.15513652, 0.37371104, 0.38637114, 0.83263248, 0.94428561],\n",
       "        [0.05120172, 0.71995031, 0.46137921, 0.5700159 , 0.72881939],\n",
       "        [0.65551239, 0.94539385, 0.34412564, 0.78280982, 0.23334501]]))"
      ]
     },
     "execution_count": 6,
     "metadata": {},
     "output_type": "execute_result"
    }
   ],
   "source": [
    "# otu table, metabolite table\n",
    "s.run_simulation()"
   ]
  },
  {
   "cell_type": "code",
   "execution_count": null,
   "metadata": {},
   "outputs": [],
   "source": []
  }
 ],
 "metadata": {
  "kernelspec": {
   "display_name": "Python [conda env:DSC] *",
   "language": "python",
   "name": "conda-env-DSC-py"
  },
  "language_info": {
   "codemirror_mode": {
    "name": "ipython",
    "version": 3
   },
   "file_extension": ".py",
   "mimetype": "text/x-python",
   "name": "python",
   "nbconvert_exporter": "python",
   "pygments_lexer": "ipython3",
   "version": "3.7.3"
  }
 },
 "nbformat": 4,
 "nbformat_minor": 2
}
