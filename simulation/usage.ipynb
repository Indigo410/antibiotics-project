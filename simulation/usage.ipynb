{
 "cells": [
  {
   "cell_type": "code",
   "execution_count": 1,
   "metadata": {},
   "outputs": [],
   "source": [
    "%load_ext autoreload\n",
    "%autoreload 2"
   ]
  },
  {
   "cell_type": "code",
   "execution_count": 2,
   "metadata": {},
   "outputs": [],
   "source": [
    "from simulation import Simulation,TreeSimilarity\n",
    "from test_simulation import *"
   ]
  },
  {
   "cell_type": "code",
   "execution_count": 3,
   "metadata": {},
   "outputs": [],
   "source": [
    "var={'n':5,\n",
    "     'p_otu':8, \n",
    "     'p_metabolite':4}"
   ]
  },
  {
   "cell_type": "code",
   "execution_count": 4,
   "metadata": {},
   "outputs": [],
   "source": [
    "s = Simulation(**var)"
   ]
  },
  {
   "cell_type": "code",
   "execution_count": 5,
   "metadata": {},
   "outputs": [
    {
     "data": {
      "text/plain": [
       "(array([[-3.58300763, -1.41981512, -3.03279597, -0.61771157, -1.11834967],\n",
       "        [ 0.20082878,  0.00371657,  0.97094303,  0.6935595 ,  0.08495819],\n",
       "        [ 0.81347826,  0.16895576,  0.79941021,  0.87284696,  0.62504059],\n",
       "        [ 0.33687138,  0.61681809,  0.02049037,  0.74491754,  0.05498126],\n",
       "        [ 0.96178843,  0.8755396 ,  0.19496638,  0.98428582,  0.27461422],\n",
       "        [ 0.27656305,  0.85244481,  0.30411814,  0.97830905,  0.33466513],\n",
       "        [ 0.44645777,  0.74417144,  0.23170348,  0.16647924,  0.09593745],\n",
       "        [ 0.73887743,  0.02265923,  0.56724803,  0.08092613,  0.70724608]]),\n",
       " array([[ 1.79952907,  0.1197995 ,  0.89620843,  0.66184558, -0.07049841],\n",
       "        [ 0.39013701,  0.22032793,  0.82940948,  0.34001345,  0.91325964],\n",
       "        [ 0.90275537,  0.92570943,  0.19660994,  0.17241102,  0.88712328],\n",
       "        [ 0.39763881,  0.48588921,  0.32139295,  0.18657148,  0.75834315]]))"
      ]
     },
     "execution_count": 5,
     "metadata": {},
     "output_type": "execute_result"
    }
   ],
   "source": [
    "# otu table, metabolite table run on default params\n",
    "s.run_simulation()"
   ]
  },
  {
   "cell_type": "code",
   "execution_count": 47,
   "metadata": {},
   "outputs": [],
   "source": [
    "otu_t=TreeSimilarity(var[\"p_otu\"])\n",
    "met_t=TreeSimilarity(var[\"p_metabolite\"],names=\"metabolite\")"
   ]
  },
  {
   "cell_type": "code",
   "execution_count": 48,
   "metadata": {},
   "outputs": [
    {
     "name": "stdout",
     "output_type": "stream",
     "text": [
      "  _________________________________ otu1\n",
      " |\n",
      " |                                                                      , otu7\n",
      " |                                                   ___________________|\n",
      "_|                                                  |                   | otu3\n",
      " |                          ________________________|\n",
      " |                         |                        |                   _ otu6\n",
      " |                         |                        |__________________|\n",
      " |_________________________|                                           |_ otu2\n",
      "                           |\n",
      "                           |                         _ otu5\n",
      "                           |                   _____|\n",
      "                           |__________________|     |_ otu4\n",
      "                                              |\n",
      "                                              |_______ otu0\n",
      "\n"
     ]
    },
    {
     "data": {
      "text/plain": [
       "None"
      ]
     },
     "metadata": {},
     "output_type": "display_data"
    },
    {
     "name": "stdout",
     "output_type": "stream",
     "text": [
      "  _________________________________________________________________ metabolite1\n",
      " |\n",
      "_|                                           ______________________ metabolite3\n",
      " |                   _______________________|\n",
      " |__________________|                       |______________________ metabolite2\n",
      "                    |\n",
      "                    |______________________________________________ metabolite0\n",
      "\n"
     ]
    },
    {
     "data": {
      "text/plain": [
       "None"
      ]
     },
     "metadata": {},
     "output_type": "display_data"
    }
   ],
   "source": [
    "display(otu_t.draw())\n",
    "display(met_t.draw())"
   ]
  },
  {
   "cell_type": "code",
   "execution_count": 52,
   "metadata": {},
   "outputs": [
    {
     "name": "stderr",
     "output_type": "stream",
     "text": [
      "/Users/indigo410/Documents/SP20/antibiotics-project/Mediation_Simulation/simulation.py:33: RuntimeWarning: covariance is not symmetric positive-semidefinite.\n",
      "  self.otutable = np.random.multivariate_normal(np.zeros(p_otu),A,size=(p_otu,n))\n",
      "/Users/indigo410/Documents/SP20/antibiotics-project/Mediation_Simulation/simulation.py:34: RuntimeWarning: covariance is not symmetric positive-semidefinite.\n",
      "  self.metabolitetable = np.random.multivariate_normal(np.zeros(p_metabolite),B,size=(p_metabolite,n))\n"
     ]
    }
   ],
   "source": [
    "var2={'n':5,\n",
    "     'p_otu':8, \n",
    "     'p_metabolite':4,\n",
    "     'multivar':True,\n",
    "     'A':otu_t.cov,\n",
    "     'B':met_t.cov}\n",
    "\n",
    "s2=Simulation(**var2)"
   ]
  },
  {
   "cell_type": "code",
   "execution_count": null,
   "metadata": {},
   "outputs": [],
   "source": []
  }
 ],
 "metadata": {
  "kernelspec": {
   "display_name": "Python 3",
   "language": "python",
   "name": "python3"
  },
  "language_info": {
   "codemirror_mode": {
    "name": "ipython",
    "version": 3
   },
   "file_extension": ".py",
   "mimetype": "text/x-python",
   "name": "python",
   "nbconvert_exporter": "python",
   "pygments_lexer": "ipython3",
   "version": "3.7.3"
  }
 },
 "nbformat": 4,
 "nbformat_minor": 2
}
