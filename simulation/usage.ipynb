{
 "cells": [
  {
   "cell_type": "code",
   "execution_count": 1,
   "metadata": {},
   "outputs": [],
   "source": [
    "%load_ext autoreload\n",
    "%autoreload 2"
   ]
  },
  {
   "cell_type": "code",
   "execution_count": 2,
   "metadata": {},
   "outputs": [],
   "source": [
    "from simulation import Simulation,TreeSimilarity\n",
    "from test_simulation import *"
   ]
  },
  {
   "cell_type": "code",
   "execution_count": 3,
   "metadata": {},
   "outputs": [],
   "source": [
    "var={'n':5,\n",
    "     'p_otu':8, \n",
    "     'p_metabolite':4}"
   ]
  },
  {
   "cell_type": "code",
   "execution_count": 4,
   "metadata": {},
   "outputs": [],
   "source": [
    "s = Simulation(**var)"
   ]
  },
  {
   "cell_type": "code",
   "execution_count": 5,
   "metadata": {},
   "outputs": [
    {
     "data": {
      "text/plain": [
       "(array([[-1.94582134e+00, -4.07855232e+00, -3.69175682e+00,\n",
       "         -4.65928599e+00, -1.44152077e+00],\n",
       "        [ 5.81005242e-01,  5.04609712e-01,  8.66643263e-01,\n",
       "          2.26119804e-02,  2.84016487e-03],\n",
       "        [ 5.19911782e-01,  9.90337173e-01,  4.69284641e-01,\n",
       "          4.11319284e-01,  9.77673340e-01],\n",
       "        [ 4.91906573e-01,  9.06910576e-01,  4.48510121e-01,\n",
       "          8.23557483e-01,  9.04422882e-01],\n",
       "        [ 4.40495166e-01,  3.12096336e-01,  5.92939414e-01,\n",
       "          8.17613083e-01,  4.04801921e-01],\n",
       "        [ 8.07426190e-01,  3.48753402e-01,  1.59865950e-01,\n",
       "          7.54712532e-01,  6.71164521e-01],\n",
       "        [ 3.14664402e-01,  9.46494843e-01,  9.98218247e-01,\n",
       "          9.20297579e-01,  3.53647870e-01],\n",
       "        [ 4.94947043e-01,  8.56819525e-01,  4.62993260e-01,\n",
       "          6.84894766e-01,  2.05865047e-01]]),\n",
       " array([[0.35464056, 1.40765647, 1.27362692, 1.13956932, 0.10538722],\n",
       "        [0.13717889, 0.79512513, 0.06787464, 0.81764162, 0.61511892],\n",
       "        [0.72492778, 0.96930706, 0.40568429, 0.22127934, 0.16735017],\n",
       "        [0.20059592, 0.34717125, 0.24958792, 0.07086395, 0.82842498]]))"
      ]
     },
     "execution_count": 5,
     "metadata": {},
     "output_type": "execute_result"
    }
   ],
   "source": [
    "# otu table, metabolite table run on default params\n",
    "s.run_simulation()"
   ]
  },
  {
   "cell_type": "markdown",
   "metadata": {},
   "source": [
    "# multivariate normal dist"
   ]
  },
  {
   "cell_type": "code",
   "execution_count": 48,
   "metadata": {},
   "outputs": [],
   "source": [
    "otu_t=TreeSimilarity(var[\"p_otu\"])\n",
    "met_t=TreeSimilarity(var[\"p_metabolite\"],names=\"metabolite\")"
   ]
  },
  {
   "cell_type": "code",
   "execution_count": 49,
   "metadata": {},
   "outputs": [
    {
     "name": "stdout",
     "output_type": "stream",
     "text": [
      "  ____________________________________________ otu2\n",
      " |\n",
      " |                                                         ______________ otu6\n",
      " |                                        ________________|\n",
      "_|                                       |                |______________ otu3\n",
      " |                      _________________|\n",
      " |                     |                 |                 ______________ otu7\n",
      " |                     |                 |         _______|\n",
      " |                     |                 |________|       |______________ otu5\n",
      " |_____________________|                          |\n",
      "                       |                          |_____________________ otu1\n",
      "                       |\n",
      "                       |                          ______________ otu4\n",
      "                       |_________________________|\n",
      "                                                 |______________ otu0\n",
      "\n"
     ]
    },
    {
     "data": {
      "text/plain": [
       "None"
      ]
     },
     "metadata": {},
     "output_type": "display_data"
    },
    {
     "name": "stdout",
     "output_type": "stream",
     "text": [
      "                                      _____________________________ metabolite3\n",
      "  ___________________________________|\n",
      " |                                   |_____________________________ metabolite1\n",
      "_|\n",
      " |                                          _______________________ metabolite2\n",
      " |_________________________________________|\n",
      "                                           |_______________________ metabolite0\n",
      "\n"
     ]
    },
    {
     "data": {
      "text/plain": [
       "None"
      ]
     },
     "metadata": {},
     "output_type": "display_data"
    }
   ],
   "source": [
    "display(otu_t.draw())\n",
    "display(met_t.draw())"
   ]
  },
  {
   "cell_type": "code",
   "execution_count": 54,
   "metadata": {},
   "outputs": [],
   "source": [
    "var2={'n':5,\n",
    "     'p_otu':8, \n",
    "     'p_metabolite':4,\n",
    "     'multivar':True,\n",
    "     'A':otu_t.cov,\n",
    "     'B':met_t.cov}\n",
    "\n",
    "s2=Simulation(**var2)"
   ]
  },
  {
   "cell_type": "code",
   "execution_count": 56,
   "metadata": {
    "scrolled": false
   },
   "outputs": [
    {
     "data": {
      "text/plain": [
       "array([[ 0.56343746, -0.03058826, -0.55765963,  0.24817555, -0.22894977,\n",
       "         0.56790744, -0.15042191,  0.51329601],\n",
       "       [-0.32510871,  0.08601607,  0.07830876,  0.20279903, -0.03579529,\n",
       "         0.28306919,  0.14639478,  0.06832128],\n",
       "       [ 0.16140752, -0.08565895,  0.01253758,  0.02932415,  0.25078535,\n",
       "        -0.27864089,  0.06725617, -0.25883035],\n",
       "       [ 0.47775402, -0.18525365, -0.11158259, -0.14541984, -0.0631256 ,\n",
       "        -0.12669395, -0.10312233, -0.07828237],\n",
       "       [ 0.0874227 ,  0.02285167, -0.09857239,  0.0459499 ,  0.41264204,\n",
       "        -0.07546229, -0.29099246, -0.04095715]])"
      ]
     },
     "metadata": {},
     "output_type": "display_data"
    },
    {
     "data": {
      "text/plain": [
       "array([[ 0.47021681, -0.58912602,  0.62308918, -0.14416621],\n",
       "       [ 0.24361391, -0.47260287,  0.6247049 , -0.43181518],\n",
       "       [-0.15980325, -0.01916658,  0.21253678, -0.45827424],\n",
       "       [ 0.17530845, -0.53548776,  0.62247496, -0.48178934],\n",
       "       [-0.12321298,  0.02081315,  0.07156665, -0.23889863]])"
      ]
     },
     "metadata": {},
     "output_type": "display_data"
    }
   ],
   "source": [
    "display(s2.otutable,s2.metabolitetable)"
   ]
  },
  {
   "cell_type": "code",
   "execution_count": null,
   "metadata": {},
   "outputs": [],
   "source": []
  }
 ],
 "metadata": {
  "kernelspec": {
   "display_name": "Python 3",
   "language": "python",
   "name": "python3"
  },
  "language_info": {
   "codemirror_mode": {
    "name": "ipython",
    "version": 3
   },
   "file_extension": ".py",
   "mimetype": "text/x-python",
   "name": "python",
   "nbconvert_exporter": "python",
   "pygments_lexer": "ipython3",
   "version": "3.7.3"
  }
 },
 "nbformat": 4,
 "nbformat_minor": 2
}
