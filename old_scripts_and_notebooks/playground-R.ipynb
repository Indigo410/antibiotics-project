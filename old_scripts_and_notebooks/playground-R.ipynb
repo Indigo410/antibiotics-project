{
 "cells": [
  {
   "cell_type": "code",
   "execution_count": 1,
   "metadata": {},
   "outputs": [],
   "source": [
    "source(\"mediation_simulation.r\")"
   ]
  },
  {
   "cell_type": "code",
   "execution_count": 2,
   "metadata": {},
   "outputs": [
    {
     "data": {
      "text/html": [
       "<dl>\n",
       "\t<dt>$OTU</dt>\n",
       "\t\t<dd><table>\n",
       "<tbody>\n",
       "\t<tr><th scope=row></th><td> 0.02485521 </td><td> 0.6990284  </td><td> 0.408175763</td></tr>\n",
       "\t<tr><th scope=row></th><td> 0.76293577 </td><td> 0.3168589  </td><td> 0.586317356</td></tr>\n",
       "\t<tr><th scope=row></th><td> 0.45977920 </td><td> 0.8872053  </td><td> 0.668616426</td></tr>\n",
       "\t<tr><th scope=row></th><td> 0.43614826 </td><td> 0.7071642  </td><td> 0.001383757</td></tr>\n",
       "\t<tr><th scope=row></th><td> 0.42392056 </td><td> 0.3634555  </td><td> 0.274824285</td></tr>\n",
       "\t<tr><th scope=row></th><td> 0.60230049 </td><td> 0.7930852  </td><td> 0.866551771</td></tr>\n",
       "\t<tr><th scope=row>producer</th><td> 0.89943546 </td><td> 0.4467124  </td><td> 0.807260028</td></tr>\n",
       "\t<tr><th scope=row>target</th><td>-3.09339090 </td><td>-1.5690626  </td><td>-4.807483626</td></tr>\n",
       "</tbody>\n",
       "</table>\n",
       "</dd>\n",
       "\t<dt>$Metabolite</dt>\n",
       "\t\t<dd><table>\n",
       "<tbody>\n",
       "\t<tr><td>0.96046491</td><td>0.7291583 </td><td>0.9524750 </td></tr>\n",
       "\t<tr><td>0.19394808</td><td>0.4733477 </td><td>0.8484302 </td></tr>\n",
       "\t<tr><td>0.01210569</td><td>0.2296636 </td><td>0.4896710 </td></tr>\n",
       "\t<tr><td>2.60561277</td><td>1.9619104 </td><td>3.2698385 </td></tr>\n",
       "</tbody>\n",
       "</table>\n",
       "</dd>\n",
       "\t<dt>$OtuAnn</dt>\n",
       "\t\t<dd><table>\n",
       "<thead><tr><th scope=col>Species</th></tr></thead>\n",
       "<tbody>\n",
       "\t<tr><td>OTU1</td></tr>\n",
       "\t<tr><td>OTU2</td></tr>\n",
       "\t<tr><td>OTU3</td></tr>\n",
       "\t<tr><td>OTU4</td></tr>\n",
       "\t<tr><td>OTU5</td></tr>\n",
       "\t<tr><td>OTU6</td></tr>\n",
       "\t<tr><td>OTU7</td></tr>\n",
       "\t<tr><td>OTU8</td></tr>\n",
       "</tbody>\n",
       "</table>\n",
       "</dd>\n",
       "\t<dt>$MetAnn</dt>\n",
       "\t\t<dd><table>\n",
       "<thead><tr><th scope=col>Species</th></tr></thead>\n",
       "<tbody>\n",
       "\t<tr><td>M1         </td></tr>\n",
       "\t<tr><td>M2         </td></tr>\n",
       "\t<tr><td>M3 Mediator</td></tr>\n",
       "\t<tr><td>M4 Mediator</td></tr>\n",
       "</tbody>\n",
       "</table>\n",
       "</dd>\n",
       "</dl>\n"
      ],
      "text/latex": [
       "\\begin{description}\n",
       "\\item[\\$OTU] \\begin{tabular}{r|lll}\n",
       "\t &  0.02485521  &  0.6990284   &  0.408175763\\\\\n",
       "\t &  0.76293577  &  0.3168589   &  0.586317356\\\\\n",
       "\t &  0.45977920  &  0.8872053   &  0.668616426\\\\\n",
       "\t &  0.43614826  &  0.7071642   &  0.001383757\\\\\n",
       "\t &  0.42392056  &  0.3634555   &  0.274824285\\\\\n",
       "\t &  0.60230049  &  0.7930852   &  0.866551771\\\\\n",
       "\tproducer &  0.89943546  &  0.4467124   &  0.807260028\\\\\n",
       "\ttarget & -3.09339090  & -1.5690626   & -4.807483626\\\\\n",
       "\\end{tabular}\n",
       "\n",
       "\\item[\\$Metabolite] \\begin{tabular}{lll}\n",
       "\t 0.96046491 & 0.7291583  & 0.9524750 \\\\\n",
       "\t 0.19394808 & 0.4733477  & 0.8484302 \\\\\n",
       "\t 0.01210569 & 0.2296636  & 0.4896710 \\\\\n",
       "\t 2.60561277 & 1.9619104  & 3.2698385 \\\\\n",
       "\\end{tabular}\n",
       "\n",
       "\\item[\\$OtuAnn] \\begin{tabular}{r|l}\n",
       " Species\\\\\n",
       "\\hline\n",
       "\t OTU1\\\\\n",
       "\t OTU2\\\\\n",
       "\t OTU3\\\\\n",
       "\t OTU4\\\\\n",
       "\t OTU5\\\\\n",
       "\t OTU6\\\\\n",
       "\t OTU7\\\\\n",
       "\t OTU8\\\\\n",
       "\\end{tabular}\n",
       "\n",
       "\\item[\\$MetAnn] \\begin{tabular}{r|l}\n",
       " Species\\\\\n",
       "\\hline\n",
       "\t M1         \\\\\n",
       "\t M2         \\\\\n",
       "\t M3 Mediator\\\\\n",
       "\t M4 Mediator\\\\\n",
       "\\end{tabular}\n",
       "\n",
       "\\end{description}\n"
      ],
      "text/markdown": [
       "$OTU\n",
       ":   \n",
       "|  |  0.02485521  |  0.6990284   |  0.408175763 |\n",
       "|  |  0.76293577  |  0.3168589   |  0.586317356 |\n",
       "|  |  0.45977920  |  0.8872053   |  0.668616426 |\n",
       "|  |  0.43614826  |  0.7071642   |  0.001383757 |\n",
       "|  |  0.42392056  |  0.3634555   |  0.274824285 |\n",
       "|  |  0.60230049  |  0.7930852   |  0.866551771 |\n",
       "| producer |  0.89943546  |  0.4467124   |  0.807260028 |\n",
       "| target | -3.09339090  | -1.5690626   | -4.807483626 |\n",
       "\n",
       "\n",
       "$Metabolite\n",
       ":   \n",
       "| 0.96046491 | 0.7291583  | 0.9524750  |\n",
       "| 0.19394808 | 0.4733477  | 0.8484302  |\n",
       "| 0.01210569 | 0.2296636  | 0.4896710  |\n",
       "| 2.60561277 | 1.9619104  | 3.2698385  |\n",
       "\n",
       "\n",
       "$OtuAnn\n",
       ":   \n",
       "| Species |\n",
       "|---|\n",
       "| OTU1 |\n",
       "| OTU2 |\n",
       "| OTU3 |\n",
       "| OTU4 |\n",
       "| OTU5 |\n",
       "| OTU6 |\n",
       "| OTU7 |\n",
       "| OTU8 |\n",
       "\n",
       "\n",
       "$MetAnn\n",
       ":   \n",
       "| Species |\n",
       "|---|\n",
       "| M1          |\n",
       "| M2          |\n",
       "| M3 Mediator |\n",
       "| M4 Mediator |\n",
       "\n",
       "\n",
       "\n",
       "\n"
      ],
      "text/plain": [
       "$OTU\n",
       "                [,1]       [,2]         [,3]\n",
       "          0.02485521  0.6990284  0.408175763\n",
       "          0.76293577  0.3168589  0.586317356\n",
       "          0.45977920  0.8872053  0.668616426\n",
       "          0.43614826  0.7071642  0.001383757\n",
       "          0.42392056  0.3634555  0.274824285\n",
       "          0.60230049  0.7930852  0.866551771\n",
       "producer  0.89943546  0.4467124  0.807260028\n",
       "target   -3.09339090 -1.5690626 -4.807483626\n",
       "\n",
       "$Metabolite\n",
       "           [,1]      [,2]      [,3]\n",
       "[1,] 0.96046491 0.7291583 0.9524750\n",
       "[2,] 0.19394808 0.4733477 0.8484302\n",
       "[3,] 0.01210569 0.2296636 0.4896710\n",
       "[4,] 2.60561277 1.9619104 3.2698385\n",
       "\n",
       "$OtuAnn\n",
       "  Species\n",
       "1    OTU1\n",
       "2    OTU2\n",
       "3    OTU3\n",
       "4    OTU4\n",
       "5    OTU5\n",
       "6    OTU6\n",
       "7    OTU7\n",
       "8    OTU8\n",
       "\n",
       "$MetAnn\n",
       "      Species\n",
       "1          M1\n",
       "2          M2\n",
       "3 M3 Mediator\n",
       "4 M4 Mediator\n"
      ]
     },
     "metadata": {},
     "output_type": "display_data"
    }
   ],
   "source": [
    "output=simulate_simple_mediation(3,8,4,1)\n",
    "output"
   ]
  },
  {
   "cell_type": "code",
   "execution_count": null,
   "metadata": {},
   "outputs": [],
   "source": []
  },
  {
   "cell_type": "code",
   "execution_count": 25,
   "metadata": {},
   "outputs": [],
   "source": [
    "qx=qr(output$OTU[1:6,1:4])"
   ]
  },
  {
   "cell_type": "code",
   "execution_count": 27,
   "metadata": {},
   "outputs": [
    {
     "ename": "ERROR",
     "evalue": "Error in qr.coef(a, b): 'qr' and 'y' must have the same number of rows\n",
     "output_type": "error",
     "traceback": [
      "Error in qr.coef(a, b): 'qr' and 'y' must have the same number of rows\nTraceback:\n",
      "1. solve.qr(qx, output$OTU[7, 1:4])",
      "2. qr.coef(a, b)",
      "3. stop(\"'qr' and 'y' must have the same number of rows\")"
     ]
    }
   ],
   "source": [
    "solve.qr(qx,output$OTU[7,1:4])"
   ]
  },
  {
   "cell_type": "code",
   "execution_count": 4,
   "metadata": {},
   "outputs": [],
   "source": [
    "n=2\n",
    "p_otu=4\n",
    "p_metabolite=2\n",
    "mediations=1\n",
    "\n",
    "not_mediation_otu = p_otu-2*mediations\n",
    "not_mediation_metabolite = p_metabolite-mediations"
   ]
  },
  {
   "cell_type": "code",
   "execution_count": 15,
   "metadata": {},
   "outputs": [
    {
     "data": {
      "text/html": [
       "2"
      ],
      "text/latex": [
       "2"
      ],
      "text/markdown": [
       "2"
      ],
      "text/plain": [
       "[1] 2"
      ]
     },
     "metadata": {},
     "output_type": "display_data"
    }
   ],
   "source": [
    "not_mediation_otu"
   ]
  },
  {
   "cell_type": "code",
   "execution_count": 16,
   "metadata": {},
   "outputs": [
    {
     "data": {
      "text/html": [
       "1"
      ],
      "text/latex": [
       "1"
      ],
      "text/markdown": [
       "1"
      ],
      "text/plain": [
       "[1] 1"
      ]
     },
     "metadata": {},
     "output_type": "display_data"
    }
   ],
   "source": [
    "not_mediation_metabolite"
   ]
  },
  {
   "cell_type": "code",
   "execution_count": 17,
   "metadata": {},
   "outputs": [
    {
     "data": {
      "text/html": [
       "<table>\n",
       "<tbody>\n",
       "\t<tr><td>0.08999007</td><td>0.7820796 </td></tr>\n",
       "\t<tr><td>0.77619082</td><td>0.2580139 </td></tr>\n",
       "</tbody>\n",
       "</table>\n"
      ],
      "text/latex": [
       "\\begin{tabular}{ll}\n",
       "\t 0.08999007 & 0.7820796 \\\\\n",
       "\t 0.77619082 & 0.2580139 \\\\\n",
       "\\end{tabular}\n"
      ],
      "text/markdown": [
       "\n",
       "| 0.08999007 | 0.7820796  |\n",
       "| 0.77619082 | 0.2580139  |\n",
       "\n"
      ],
      "text/plain": [
       "     [,1]       [,2]     \n",
       "[1,] 0.08999007 0.7820796\n",
       "[2,] 0.77619082 0.2580139"
      ]
     },
     "metadata": {},
     "output_type": "display_data"
    }
   ],
   "source": [
    "otutable"
   ]
  },
  {
   "cell_type": "code",
   "execution_count": 18,
   "metadata": {},
   "outputs": [
    {
     "data": {
      "text/html": [
       "<table>\n",
       "<tbody>\n",
       "\t<tr><td>0.838959 </td><td>0.3020534</td></tr>\n",
       "</tbody>\n",
       "</table>\n"
      ],
      "text/latex": [
       "\\begin{tabular}{ll}\n",
       "\t 0.838959  & 0.3020534\\\\\n",
       "\\end{tabular}\n"
      ],
      "text/markdown": [
       "\n",
       "| 0.838959  | 0.3020534 |\n",
       "\n"
      ],
      "text/plain": [
       "     [,1]     [,2]     \n",
       "[1,] 0.838959 0.3020534"
      ]
     },
     "metadata": {},
     "output_type": "display_data"
    }
   ],
   "source": [
    "metabolitetable"
   ]
  },
  {
   "cell_type": "code",
   "execution_count": 5,
   "metadata": {},
   "outputs": [],
   "source": [
    "not_mediation_otu <- p_otu - 2*mediations\n",
    "not_mediation_metabolite <- p_metabolite - mediations\n",
    "otutable <- t(replicate(not_mediation_otu, runif(n)))"
   ]
  },
  {
   "cell_type": "code",
   "execution_count": 6,
   "metadata": {},
   "outputs": [
    {
     "data": {
      "text/html": [
       "<table>\n",
       "<tbody>\n",
       "\t<tr><td>0.08999007</td><td>0.7820796 </td></tr>\n",
       "\t<tr><td>0.77619082</td><td>0.2580139 </td></tr>\n",
       "</tbody>\n",
       "</table>\n"
      ],
      "text/latex": [
       "\\begin{tabular}{ll}\n",
       "\t 0.08999007 & 0.7820796 \\\\\n",
       "\t 0.77619082 & 0.2580139 \\\\\n",
       "\\end{tabular}\n"
      ],
      "text/markdown": [
       "\n",
       "| 0.08999007 | 0.7820796  |\n",
       "| 0.77619082 | 0.2580139  |\n",
       "\n"
      ],
      "text/plain": [
       "     [,1]       [,2]     \n",
       "[1,] 0.08999007 0.7820796\n",
       "[2,] 0.77619082 0.2580139"
      ]
     },
     "metadata": {},
     "output_type": "display_data"
    }
   ],
   "source": [
    "otutable"
   ]
  },
  {
   "cell_type": "code",
   "execution_count": 8,
   "metadata": {},
   "outputs": [
    {
     "data": {
      "text/html": [
       "<table>\n",
       "<tbody>\n",
       "\t<tr><td>0.60144531</td><td>0.1696044 </td></tr>\n",
       "\t<tr><td>0.08321782</td><td>0.6476755 </td></tr>\n",
       "</tbody>\n",
       "</table>\n"
      ],
      "text/latex": [
       "\\begin{tabular}{ll}\n",
       "\t 0.60144531 & 0.1696044 \\\\\n",
       "\t 0.08321782 & 0.6476755 \\\\\n",
       "\\end{tabular}\n"
      ],
      "text/markdown": [
       "\n",
       "| 0.60144531 | 0.1696044  |\n",
       "| 0.08321782 | 0.6476755  |\n",
       "\n"
      ],
      "text/plain": [
       "     [,1]       [,2]     \n",
       "[1,] 0.60144531 0.1696044\n",
       "[2,] 0.08321782 0.6476755"
      ]
     },
     "metadata": {},
     "output_type": "display_data"
    }
   ],
   "source": [
    "replicate(not_mediation_otu, runif(n))"
   ]
  },
  {
   "cell_type": "code",
   "execution_count": 10,
   "metadata": {},
   "outputs": [
    {
     "data": {
      "text/html": [
       "<table>\n",
       "<tbody>\n",
       "\t<tr><th scope=row></th><td> 0.3234818 </td><td> 0.80590320</td></tr>\n",
       "\t<tr><th scope=row></th><td> 0.1608200 </td><td> 0.05818254</td></tr>\n",
       "\t<tr><th scope=row>producer</th><td> 0.5860819 </td><td> 0.53949878</td></tr>\n",
       "\t<tr><th scope=row>target</th><td>-1.8192517 </td><td>-0.55375749</td></tr>\n",
       "</tbody>\n",
       "</table>\n"
      ],
      "text/latex": [
       "\\begin{tabular}{r|ll}\n",
       "\t &  0.3234818  &  0.80590320\\\\\n",
       "\t &  0.1608200  &  0.05818254\\\\\n",
       "\tproducer &  0.5860819  &  0.53949878\\\\\n",
       "\ttarget & -1.8192517  & -0.55375749\\\\\n",
       "\\end{tabular}\n"
      ],
      "text/markdown": [
       "\n",
       "|  |  0.3234818  |  0.80590320 |\n",
       "|  |  0.1608200  |  0.05818254 |\n",
       "| producer |  0.5860819  |  0.53949878 |\n",
       "| target | -1.8192517  | -0.55375749 |\n",
       "\n"
      ],
      "text/plain": [
       "         [,1]       [,2]       \n",
       "          0.3234818  0.80590320\n",
       "          0.1608200  0.05818254\n",
       "producer  0.5860819  0.53949878\n",
       "target   -1.8192517 -0.55375749"
      ]
     },
     "metadata": {},
     "output_type": "display_data"
    }
   ],
   "source": [
    "output$OTU"
   ]
  },
  {
   "cell_type": "code",
   "execution_count": 12,
   "metadata": {},
   "outputs": [],
   "source": [
    "metabolitetable <- t(replicate(not_mediation_metabolite, runif(n)))"
   ]
  },
  {
   "cell_type": "code",
   "execution_count": 13,
   "metadata": {},
   "outputs": [
    {
     "data": {
      "text/html": [
       "<table>\n",
       "<tbody>\n",
       "\t<tr><td>0.838959 </td><td>0.3020534</td></tr>\n",
       "</tbody>\n",
       "</table>\n"
      ],
      "text/latex": [
       "\\begin{tabular}{ll}\n",
       "\t 0.838959  & 0.3020534\\\\\n",
       "\\end{tabular}\n"
      ],
      "text/markdown": [
       "\n",
       "| 0.838959  | 0.3020534 |\n",
       "\n"
      ],
      "text/plain": [
       "     [,1]     [,2]     \n",
       "[1,] 0.838959 0.3020534"
      ]
     },
     "metadata": {},
     "output_type": "display_data"
    }
   ],
   "source": [
    "metabolitetable"
   ]
  },
  {
   "cell_type": "code",
   "execution_count": 14,
   "metadata": {},
   "outputs": [
    {
     "data": {
      "text/html": [
       "1"
      ],
      "text/latex": [
       "1"
      ],
      "text/markdown": [
       "1"
      ],
      "text/plain": [
       "[1] 1"
      ]
     },
     "metadata": {},
     "output_type": "display_data"
    }
   ],
   "source": [
    "not_mediation_metabolite"
   ]
  },
  {
   "cell_type": "code",
   "execution_count": null,
   "metadata": {},
   "outputs": [],
   "source": []
  }
 ],
 "metadata": {
  "kernelspec": {
   "display_name": "R [conda env:R-kernel]",
   "language": "R",
   "name": "conda-env-R-kernel-r"
  },
  "language_info": {
   "codemirror_mode": "r",
   "file_extension": ".r",
   "mimetype": "text/x-r-source",
   "name": "R",
   "pygments_lexer": "r",
   "version": "3.6.0"
  }
 },
 "nbformat": 4,
 "nbformat_minor": 2
}
