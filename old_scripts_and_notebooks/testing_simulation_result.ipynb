{
 "cells": [
  {
   "cell_type": "code",
   "execution_count": 2,
   "metadata": {},
   "outputs": [],
   "source": [
    "%load_ext autoreload\n",
    "%autoreload 2"
   ]
  },
  {
   "cell_type": "code",
   "execution_count": 9,
   "metadata": {},
   "outputs": [],
   "source": [
    "from scipy.stats import ttest_1samp\n",
    "import pandas as pd\n",
    "\n",
    "from test_simulation import *"
   ]
  },
  {
   "cell_type": "markdown",
   "metadata": {},
   "source": [
    "<hr><hr><hr>\n",
    "\n",
    "# multivariate"
   ]
  },
  {
   "cell_type": "code",
   "execution_count": 35,
   "metadata": {},
   "outputs": [],
   "source": [
    "var[\"mediation_func\"]=multi_var_mediation"
   ]
  },
  {
   "cell_type": "code",
   "execution_count": 36,
   "metadata": {},
   "outputs": [
    {
     "data": {
      "text/html": [
       "<div>\n",
       "<style scoped>\n",
       "    .dataframe tbody tr th:only-of-type {\n",
       "        vertical-align: middle;\n",
       "    }\n",
       "\n",
       "    .dataframe tbody tr th {\n",
       "        vertical-align: top;\n",
       "    }\n",
       "\n",
       "    .dataframe thead th {\n",
       "        text-align: right;\n",
       "    }\n",
       "</style>\n",
       "<table border=\"1\" class=\"dataframe\">\n",
       "  <thead>\n",
       "    <tr style=\"text-align: right;\">\n",
       "      <th></th>\n",
       "      <th>beta11</th>\n",
       "      <th>beta21</th>\n",
       "      <th>beta31</th>\n",
       "      <th>beta32</th>\n",
       "    </tr>\n",
       "  </thead>\n",
       "  <tbody>\n",
       "    <tr>\n",
       "      <th>0</th>\n",
       "      <td>4.040989</td>\n",
       "      <td>0.088813</td>\n",
       "      <td>4.231938</td>\n",
       "      <td>0.025813</td>\n",
       "    </tr>\n",
       "    <tr>\n",
       "      <th>1</th>\n",
       "      <td>4.374423</td>\n",
       "      <td>0.101516</td>\n",
       "      <td>4.076932</td>\n",
       "      <td>0.028268</td>\n",
       "    </tr>\n",
       "    <tr>\n",
       "      <th>2</th>\n",
       "      <td>4.130869</td>\n",
       "      <td>0.152293</td>\n",
       "      <td>4.193017</td>\n",
       "      <td>0.038306</td>\n",
       "    </tr>\n",
       "    <tr>\n",
       "      <th>3</th>\n",
       "      <td>4.202560</td>\n",
       "      <td>0.085828</td>\n",
       "      <td>3.776122</td>\n",
       "      <td>0.070664</td>\n",
       "    </tr>\n",
       "    <tr>\n",
       "      <th>4</th>\n",
       "      <td>4.023477</td>\n",
       "      <td>0.111360</td>\n",
       "      <td>3.669536</td>\n",
       "      <td>0.006354</td>\n",
       "    </tr>\n",
       "  </tbody>\n",
       "</table>\n",
       "</div>"
      ],
      "text/plain": [
       "     beta11    beta21    beta31    beta32\n",
       "0  4.040989  0.088813  4.231938  0.025813\n",
       "1  4.374423  0.101516  4.076932  0.028268\n",
       "2  4.130869  0.152293  4.193017  0.038306\n",
       "3  4.202560  0.085828  3.776122  0.070664\n",
       "4  4.023477  0.111360  3.669536  0.006354"
      ]
     },
     "metadata": {},
     "output_type": "display_data"
    }
   ],
   "source": [
    "n,N=1000,500\n",
    "\n",
    "d2_lst = np.empty(N,dtype=object)\n",
    "\n",
    "for idx in range(N):\n",
    "    _,_,d2=generate(n)\n",
    "    d2_lst[idx]=d2\n",
    "    \n",
    "rst=pd.DataFrame(d2_lst.tolist())\n",
    "\n",
    "display(rst.head())"
   ]
  },
  {
   "cell_type": "code",
   "execution_count": null,
   "metadata": {},
   "outputs": [],
   "source": [
    "# TODO"
   ]
  },
  {
   "cell_type": "code",
   "execution_count": 42,
   "metadata": {},
   "outputs": [],
   "source": [
    "E,_=eigh(A)"
   ]
  },
  {
   "cell_type": "code",
   "execution_count": 55,
   "metadata": {},
   "outputs": [
    {
     "data": {
      "text/plain": [
       "array([2., 2., 1., 1., 1.])"
      ]
     },
     "execution_count": 55,
     "metadata": {},
     "output_type": "execute_result"
    }
   ],
   "source": [
    "E[E.argsort()[:-6:-1]]"
   ]
  },
  {
   "cell_type": "markdown",
   "metadata": {},
   "source": [
    "<hr><hr><hr>\n",
    "\n",
    "# simple mediation"
   ]
  },
  {
   "cell_type": "code",
   "execution_count": 15,
   "metadata": {},
   "outputs": [],
   "source": [
    "var[\"mediation_func\"]=simple_mediation"
   ]
  },
  {
   "cell_type": "code",
   "execution_count": 24,
   "metadata": {},
   "outputs": [
    {
     "data": {
      "text/html": [
       "<div>\n",
       "<style scoped>\n",
       "    .dataframe tbody tr th:only-of-type {\n",
       "        vertical-align: middle;\n",
       "    }\n",
       "\n",
       "    .dataframe tbody tr th {\n",
       "        vertical-align: top;\n",
       "    }\n",
       "\n",
       "    .dataframe thead th {\n",
       "        text-align: right;\n",
       "    }\n",
       "</style>\n",
       "<table border=\"1\" class=\"dataframe\">\n",
       "  <thead>\n",
       "    <tr style=\"text-align: right;\">\n",
       "      <th></th>\n",
       "      <th>beta11</th>\n",
       "      <th>beta21</th>\n",
       "      <th>beta31</th>\n",
       "      <th>beta32</th>\n",
       "    </tr>\n",
       "  </thead>\n",
       "  <tbody>\n",
       "    <tr>\n",
       "      <th>0</th>\n",
       "      <td>5.700923</td>\n",
       "      <td>0.073574</td>\n",
       "      <td>4.408142</td>\n",
       "      <td>0.023834</td>\n",
       "    </tr>\n",
       "    <tr>\n",
       "      <th>1</th>\n",
       "      <td>3.988335</td>\n",
       "      <td>0.087506</td>\n",
       "      <td>3.568981</td>\n",
       "      <td>0.011195</td>\n",
       "    </tr>\n",
       "    <tr>\n",
       "      <th>2</th>\n",
       "      <td>5.598339</td>\n",
       "      <td>0.144146</td>\n",
       "      <td>4.733854</td>\n",
       "      <td>0.040058</td>\n",
       "    </tr>\n",
       "    <tr>\n",
       "      <th>3</th>\n",
       "      <td>4.989662</td>\n",
       "      <td>0.096850</td>\n",
       "      <td>4.804273</td>\n",
       "      <td>0.074044</td>\n",
       "    </tr>\n",
       "    <tr>\n",
       "      <th>4</th>\n",
       "      <td>4.454483</td>\n",
       "      <td>0.159035</td>\n",
       "      <td>4.436164</td>\n",
       "      <td>0.012174</td>\n",
       "    </tr>\n",
       "  </tbody>\n",
       "</table>\n",
       "</div>"
      ],
      "text/plain": [
       "     beta11    beta21    beta31    beta32\n",
       "0  5.700923  0.073574  4.408142  0.023834\n",
       "1  3.988335  0.087506  3.568981  0.011195\n",
       "2  5.598339  0.144146  4.733854  0.040058\n",
       "3  4.989662  0.096850  4.804273  0.074044\n",
       "4  4.454483  0.159035  4.436164  0.012174"
      ]
     },
     "metadata": {},
     "output_type": "display_data"
    }
   ],
   "source": [
    "n,N=1000,1000\n",
    "\n",
    "d2_lst = np.empty(N,dtype=object)\n",
    "\n",
    "for idx in range(N):\n",
    "    _,_,d2=generate(n)\n",
    "    d2_lst[idx]=d2\n",
    "    \n",
    "rst=pd.DataFrame(d2_lst.tolist())\n",
    "\n",
    "display(rst.head())"
   ]
  },
  {
   "cell_type": "code",
   "execution_count": null,
   "metadata": {},
   "outputs": [],
   "source": [
    "# TODO"
   ]
  },
  {
   "cell_type": "markdown",
   "metadata": {},
   "source": [
    "<hr><hr><hr>\n",
    "\n",
    "# simple mediation direct"
   ]
  },
  {
   "cell_type": "code",
   "execution_count": 33,
   "metadata": {},
   "outputs": [],
   "source": [
    "var[\"mediation_func\"]=simple_mediation_direct"
   ]
  },
  {
   "cell_type": "markdown",
   "metadata": {},
   "source": [
    "## Runing simulation on 1000 otu for 1000 trials"
   ]
  },
  {
   "cell_type": "code",
   "execution_count": 36,
   "metadata": {},
   "outputs": [],
   "source": [
    "n,N=1000,1000"
   ]
  },
  {
   "cell_type": "code",
   "execution_count": 37,
   "metadata": {},
   "outputs": [
    {
     "data": {
      "text/html": [
       "<div>\n",
       "<style scoped>\n",
       "    .dataframe tbody tr th:only-of-type {\n",
       "        vertical-align: middle;\n",
       "    }\n",
       "\n",
       "    .dataframe tbody tr th {\n",
       "        vertical-align: top;\n",
       "    }\n",
       "\n",
       "    .dataframe thead th {\n",
       "        text-align: right;\n",
       "    }\n",
       "</style>\n",
       "<table border=\"1\" class=\"dataframe\">\n",
       "  <thead>\n",
       "    <tr style=\"text-align: right;\">\n",
       "      <th></th>\n",
       "      <th>beta11</th>\n",
       "      <th>beta21</th>\n",
       "      <th>beta31</th>\n",
       "      <th>beta32</th>\n",
       "    </tr>\n",
       "  </thead>\n",
       "  <tbody>\n",
       "    <tr>\n",
       "      <th>0</th>\n",
       "      <td>0.395980</td>\n",
       "      <td>0.117668</td>\n",
       "      <td>0.076464</td>\n",
       "      <td>0.015000</td>\n",
       "    </tr>\n",
       "    <tr>\n",
       "      <th>1</th>\n",
       "      <td>0.256542</td>\n",
       "      <td>0.080153</td>\n",
       "      <td>0.050460</td>\n",
       "      <td>0.102956</td>\n",
       "    </tr>\n",
       "    <tr>\n",
       "      <th>2</th>\n",
       "      <td>0.259631</td>\n",
       "      <td>0.082654</td>\n",
       "      <td>0.077568</td>\n",
       "      <td>0.023387</td>\n",
       "    </tr>\n",
       "    <tr>\n",
       "      <th>3</th>\n",
       "      <td>0.087063</td>\n",
       "      <td>0.104485</td>\n",
       "      <td>0.080812</td>\n",
       "      <td>0.042451</td>\n",
       "    </tr>\n",
       "    <tr>\n",
       "      <th>4</th>\n",
       "      <td>0.098511</td>\n",
       "      <td>0.084692</td>\n",
       "      <td>0.032929</td>\n",
       "      <td>0.009778</td>\n",
       "    </tr>\n",
       "  </tbody>\n",
       "</table>\n",
       "</div>"
      ],
      "text/plain": [
       "     beta11    beta21    beta31    beta32\n",
       "0  0.395980  0.117668  0.076464  0.015000\n",
       "1  0.256542  0.080153  0.050460  0.102956\n",
       "2  0.259631  0.082654  0.077568  0.023387\n",
       "3  0.087063  0.104485  0.080812  0.042451\n",
       "4  0.098511  0.084692  0.032929  0.009778"
      ]
     },
     "metadata": {},
     "output_type": "display_data"
    }
   ],
   "source": [
    "d2_lst = np.empty(N,dtype=object)\n",
    "\n",
    "for idx in range(N):\n",
    "    _,_,d2=generate(n)\n",
    "    d2_lst[idx]=d2\n",
    "    \n",
    "rst=pd.DataFrame(d2_lst.tolist())\n",
    "\n",
    "display(rst.head())"
   ]
  },
  {
   "cell_type": "markdown",
   "metadata": {},
   "source": [
    "### perform 1 sample t-test with population mean set to 0"
   ]
  },
  {
   "cell_type": "code",
   "execution_count": 38,
   "metadata": {},
   "outputs": [
    {
     "data": {
      "text/plain": [
       "beta11                        (59.296034083220555, 0.0)\n",
       "beta21                         (72.35091507128503, 0.0)\n",
       "beta31               (57.13256346422673, 4.936781e-317)\n",
       "beta32    (40.613143547908415, 1.0116506416793443e-213)\n",
       "dtype: object"
      ]
     },
     "execution_count": 38,
     "metadata": {},
     "output_type": "execute_result"
    }
   ],
   "source": [
    "# t value, p value\n",
    "rst.apply(ttest_1samp,axis=0,popmean=0)"
   ]
  },
  {
   "cell_type": "markdown",
   "metadata": {},
   "source": [
    "## running simulation on 500 otu with 1000 trials"
   ]
  },
  {
   "cell_type": "code",
   "execution_count": 39,
   "metadata": {},
   "outputs": [],
   "source": [
    "n,N=500,1000"
   ]
  },
  {
   "cell_type": "code",
   "execution_count": 40,
   "metadata": {},
   "outputs": [
    {
     "data": {
      "text/plain": [
       "beta11                        (58.82522307155942, 0.0)\n",
       "beta21                        (75.11701656644085, 0.0)\n",
       "beta31     (55.68755174360723, 1.427254372004454e-308)\n",
       "beta32    (38.12937879154832, 4.5464268720163257e-197)\n",
       "dtype: object"
      ]
     },
     "execution_count": 40,
     "metadata": {},
     "output_type": "execute_result"
    }
   ],
   "source": [
    "d2_lst = np.empty(N,dtype=object)\n",
    "\n",
    "for idx in range(N):\n",
    "    _,_,d2=generate(n)\n",
    "    d2_lst[idx]=d2\n",
    "    \n",
    "rst=pd.DataFrame(d2_lst.tolist())\n",
    "\n",
    "# 1 sample t-test with population mean set to 0\n",
    "# t value, p value\n",
    "rst.apply(ttest_1samp,axis=0,popmean=0)"
   ]
  },
  {
   "cell_type": "code",
   "execution_count": null,
   "metadata": {},
   "outputs": [],
   "source": []
  }
 ],
 "metadata": {
  "kernelspec": {
   "display_name": "Python [conda env:DSC] *",
   "language": "python",
   "name": "conda-env-DSC-py"
  },
  "language_info": {
   "codemirror_mode": {
    "name": "ipython",
    "version": 3
   },
   "file_extension": ".py",
   "mimetype": "text/x-python",
   "name": "python",
   "nbconvert_exporter": "python",
   "pygments_lexer": "ipython3",
   "version": "3.7.3"
  }
 },
 "nbformat": 4,
 "nbformat_minor": 2
}
