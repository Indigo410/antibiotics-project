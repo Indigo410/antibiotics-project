{
 "cells": [
  {
   "cell_type": "code",
   "execution_count": 1,
   "metadata": {},
   "outputs": [],
   "source": [
    "%load_ext autoreload\n",
    "%autoreload 2"
   ]
  },
  {
   "cell_type": "code",
   "execution_count": 2,
   "metadata": {},
   "outputs": [],
   "source": [
    "from numpy.linalg import inv,qr,solve,lstsq\n",
    "from mediation_simulation import *\n",
    "from linReg import *"
   ]
  },
  {
   "cell_type": "code",
   "execution_count": 3,
   "metadata": {},
   "outputs": [],
   "source": [
    "np.random.seed(0)"
   ]
  },
  {
   "cell_type": "code",
   "execution_count": 4,
   "metadata": {},
   "outputs": [],
   "source": [
    "var={'n':4,\n",
    "     'p_otu':8, \n",
    "     'p_metabolite':4, \n",
    "     'mediations':1,\n",
    "     'mediation_func':simple_mediation_direct\n",
    "    }"
   ]
  },
  {
   "cell_type": "code",
   "execution_count": 5,
   "metadata": {},
   "outputs": [],
   "source": [
    "truth_coef={\n",
    "    'beta11':-2,\n",
    "    'beta21':2,\n",
    "    'beta32':-1.5\n",
    "}"
   ]
  },
  {
   "cell_type": "markdown",
   "metadata": {},
   "source": [
    "<hr>\n",
    "\n",
    "# simple mediation direct\n",
    "<hr>"
   ]
  },
  {
   "cell_type": "code",
   "execution_count": 137,
   "metadata": {},
   "outputs": [],
   "source": [
    "np.random.seed(0)\n",
    "output1=simulate_simple_mediation(**var)"
   ]
  },
  {
   "cell_type": "code",
   "execution_count": 138,
   "metadata": {},
   "outputs": [
    {
     "data": {
      "text/plain": [
       "matrix([[ 0.5488135 ,  0.71518937,  0.60276338,  0.54488318],\n",
       "        [ 0.4236548 ,  0.64589411,  0.43758721,  0.891773  ],\n",
       "        [ 0.96366276,  0.38344152,  0.79172504,  0.52889492],\n",
       "        [ 0.56804456,  0.92559664,  0.07103606,  0.0871293 ],\n",
       "        [ 0.0202184 ,  0.83261985,  0.77815675,  0.87001215],\n",
       "        [ 0.97861834,  0.79915856,  0.46147936,  0.78052918],\n",
       "        [ 0.61209572,  0.616934  ,  0.94374808,  0.6818203 ],\n",
       "        [ 0.72568213,  2.32277256, -2.69670283, -2.5822871 ]])"
      ]
     },
     "execution_count": 138,
     "metadata": {},
     "output_type": "execute_result"
    }
   ],
   "source": [
    "output1[\"OTU\"]"
   ]
  },
  {
   "cell_type": "code",
   "execution_count": 140,
   "metadata": {},
   "outputs": [],
   "source": [
    "P,t=output1[\"OTU\"][:-1,:],output1[\"OTU\"][-1,:]"
   ]
  },
  {
   "cell_type": "markdown",
   "metadata": {},
   "source": [
    "<hr>"
   ]
  },
  {
   "cell_type": "markdown",
   "metadata": {},
   "source": [
    "# 1. $$\\text{target}=\\beta_{32}\\cdot(\\beta_{21}\\text{producer}+\\epsilon_1)+\\epsilon_2$$"
   ]
  },
  {
   "cell_type": "code",
   "execution_count": 133,
   "metadata": {},
   "outputs": [],
   "source": [
    "# solving for M=beta21.P+epsilon2\n",
    "P=output1[\"OTU\"][:-1]\n",
    "P_1=np.vstack([P,np.ones(P.shape[1])]).T\n",
    "coef,residuals,_,_=lstsq(P_1,t.T,rcond=None)"
   ]
  },
  {
   "cell_type": "code",
   "execution_count": 135,
   "metadata": {},
   "outputs": [
    {
     "data": {
      "text/plain": [
       "matrix([[ 0.66138033],\n",
       "        [-1.28352585],\n",
       "        [-1.2494109 ],\n",
       "        [ 4.99382612],\n",
       "        [-0.82033155],\n",
       "        [ 0.37055613],\n",
       "        [-1.0843909 ]])"
      ]
     },
     "metadata": {},
     "output_type": "display_data"
    },
    {
     "data": {
      "text/plain": [
       "matrix([[-0.40852165]])"
      ]
     },
     "metadata": {},
     "output_type": "display_data"
    }
   ],
   "source": [
    "B,ep=coef[:-1],coef[-1]\n",
    "display(B,ep)"
   ]
  },
  {
   "cell_type": "code",
   "execution_count": 136,
   "metadata": {},
   "outputs": [
    {
     "data": {
      "text/plain": [
       "(2, -1.0843908961055417)"
      ]
     },
     "execution_count": 136,
     "metadata": {},
     "output_type": "execute_result"
    }
   ],
   "source": [
    "# truth value for beta21, estimated value for beta21\n",
    "truth_coef[\"beta21\"],B[-1,0]"
   ]
  },
  {
   "cell_type": "code",
   "execution_count": 128,
   "metadata": {},
   "outputs": [
    {
     "data": {
      "text/plain": [
       "matrix([[ 0.11827443,  0.52184832,  0.45615033,  0.3364057 ,  1.        ],\n",
       "        [ 0.63992102,  0.41466194,  0.56843395, -0.74692847,  1.        ],\n",
       "        [ 0.14335329,  0.26455561,  0.0187898 ,  1.53958401,  1.        ],\n",
       "        [ 0.94466892,  0.77423369,  0.6176355 ,  1.51998957,  1.        ]])"
      ]
     },
     "execution_count": 128,
     "metadata": {},
     "output_type": "execute_result"
    }
   ],
   "source": [
    "# solving for T=beta32.M+epsilon1\n",
    "\n",
    "M=output1[\"Metabolite\"]\n",
    "t=output1[\"OTU\"][-1]\n",
    "M_1=np.vstack([M,np.ones(M.shape[1])]).T\n",
    "M_1"
   ]
  },
  {
   "cell_type": "code",
   "execution_count": 103,
   "metadata": {},
   "outputs": [],
   "source": [
    "coef,residuals,_,_=lstsq(M_1,t.T,rcond=None)"
   ]
  },
  {
   "cell_type": "code",
   "execution_count": 123,
   "metadata": {},
   "outputs": [
    {
     "data": {
      "text/plain": [
       "matrix([[-1.46321826],\n",
       "        [ 1.03756947],\n",
       "        [ 1.19532053],\n",
       "        [-2.15757217]])"
      ]
     },
     "metadata": {},
     "output_type": "display_data"
    },
    {
     "data": {
      "text/plain": [
       "matrix([[0.53786326]])"
      ]
     },
     "metadata": {},
     "output_type": "display_data"
    }
   ],
   "source": [
    "B,ep=coef[:-1],coef[-1]\n",
    "display(B,ep)"
   ]
  },
  {
   "cell_type": "code",
   "execution_count": 122,
   "metadata": {},
   "outputs": [
    {
     "data": {
      "text/plain": [
       "(-1.5, -2.157572165021854)"
      ]
     },
     "execution_count": 122,
     "metadata": {},
     "output_type": "execute_result"
    }
   ],
   "source": [
    "# truth value for beta32, estimated value for beta32\n",
    "truth_coef[\"beta32\"],B[-1,0]"
   ]
  },
  {
   "cell_type": "markdown",
   "metadata": {},
   "source": [
    "## $$\\text{target}=\\beta_{32}\\beta_{21}\\text{producer}+\\beta_{32}\\epsilon_{1}+\\epsilon_2$$\n",
    "## $\\Rightarrow\\enspace \\text{let Y = target, } \\beta_{10}=\\beta{32}\\epsilon_1, \\beta_{11}=\\beta_{32}\\beta_{21}$\n",
    "## $\\Rightarrow\\enspace Y=\\beta_{10}+\\beta_{11}X+\\epsilon_{1}$"
   ]
  },
  {
   "cell_type": "code",
   "execution_count": null,
   "metadata": {},
   "outputs": [],
   "source": [
    "# TODO: "
   ]
  },
  {
   "cell_type": "code",
   "execution_count": null,
   "metadata": {},
   "outputs": [],
   "source": []
  },
  {
   "cell_type": "code",
   "execution_count": null,
   "metadata": {},
   "outputs": [],
   "source": []
  },
  {
   "cell_type": "markdown",
   "metadata": {},
   "source": [
    "<hr>\n",
    "<hr>"
   ]
  },
  {
   "cell_type": "markdown",
   "metadata": {},
   "source": [
    "# 2"
   ]
  },
  {
   "cell_type": "markdown",
   "metadata": {},
   "source": [
    "## step 1: $$Y=\\beta_{10}+\\beta_{11}X+\\epsilon_{1}$$"
   ]
  },
  {
   "cell_type": "code",
   "execution_count": 10,
   "metadata": {},
   "outputs": [
    {
     "data": {
      "text/plain": [
       "(8, 4)"
      ]
     },
     "execution_count": 10,
     "metadata": {},
     "output_type": "execute_result"
    }
   ],
   "source": [
    "# add dummy variable for beta10\n",
    "X_1=np.vstack([X,np.ones(X.shape[1])])\n",
    "X_1.shape"
   ]
  },
  {
   "cell_type": "code",
   "execution_count": 11,
   "metadata": {},
   "outputs": [],
   "source": [
    "coef, vcov, sigma,df=linmodEst(X_1,y)"
   ]
  },
  {
   "cell_type": "code",
   "execution_count": 12,
   "metadata": {},
   "outputs": [
    {
     "data": {
      "text/plain": [
       "9.496788308671569e-15"
      ]
     },
     "metadata": {},
     "output_type": "display_data"
    },
    {
     "data": {
      "text/plain": [
       "matrix([[ 0.66138033, -1.28352585, -1.2494109 ,  4.99382612, -0.82033155,\n",
       "          0.37055613, -1.0843909 , -0.40852165]])"
      ]
     },
     "metadata": {},
     "output_type": "display_data"
    }
   ],
   "source": [
    "display(sigma,coef)"
   ]
  },
  {
   "cell_type": "code",
   "execution_count": 13,
   "metadata": {},
   "outputs": [],
   "source": [
    "beta11,beta10=coef[:,:-1],coef[:,-1]"
   ]
  },
  {
   "cell_type": "code",
   "execution_count": 14,
   "metadata": {},
   "outputs": [
    {
     "data": {
      "text/plain": [
       "matrix([[ 0.72568213,  2.32277256, -2.69670283, -2.5822871 ]])"
      ]
     },
     "execution_count": 14,
     "metadata": {},
     "output_type": "execute_result"
    }
   ],
   "source": [
    "beta11.dot(X)+beta10"
   ]
  },
  {
   "cell_type": "markdown",
   "metadata": {},
   "source": [
    "## step 2: $$Me=\\beta_{20}+\\beta_{21}X+\\epsilon_{2}$$"
   ]
  },
  {
   "cell_type": "code",
   "execution_count": 15,
   "metadata": {},
   "outputs": [],
   "source": [
    "coef2, vcov2, sigma2,df2=linmodEst(X_1,output[\"Metabolite\"])"
   ]
  },
  {
   "cell_type": "code",
   "execution_count": 16,
   "metadata": {},
   "outputs": [
    {
     "data": {
      "text/plain": [
       "3.755217577292072e-15"
      ]
     },
     "metadata": {},
     "output_type": "display_data"
    }
   ],
   "source": [
    "display(sigma2)"
   ]
  },
  {
   "cell_type": "code",
   "execution_count": 17,
   "metadata": {},
   "outputs": [],
   "source": [
    "beta21,beta20=coef2[:,:-1],coef2[:,-1]"
   ]
  },
  {
   "cell_type": "code",
   "execution_count": 18,
   "metadata": {},
   "outputs": [
    {
     "data": {
      "text/plain": [
       "matrix([[ 0.11827443,  0.63992102,  0.14335329,  0.94466892],\n",
       "        [ 0.52184832,  0.41466194,  0.26455561,  0.77423369],\n",
       "        [ 0.45615033,  0.56843395,  0.0187898 ,  0.6176355 ],\n",
       "        [ 0.3364057 , -0.74692847,  1.53958401,  1.51998957]])"
      ]
     },
     "execution_count": 18,
     "metadata": {},
     "output_type": "execute_result"
    }
   ],
   "source": [
    "beta21.dot(X)+beta20"
   ]
  },
  {
   "cell_type": "markdown",
   "metadata": {},
   "source": [
    "## step 3: $$Y=\\beta_{30}+\\beta_{31}X+\\beta_{32}Me+\\epsilon_{3}$$"
   ]
  },
  {
   "cell_type": "code",
   "execution_count": 19,
   "metadata": {},
   "outputs": [],
   "source": [
    "XMe1=np.vstack([X,output[\"Metabolite\"],np.ones(X.shape[1])])"
   ]
  },
  {
   "cell_type": "code",
   "execution_count": 20,
   "metadata": {},
   "outputs": [],
   "source": [
    "coef3, vcov3, sigma3,df3=linmodEst(XMe1,y)"
   ]
  },
  {
   "cell_type": "code",
   "execution_count": 21,
   "metadata": {},
   "outputs": [
    {
     "data": {
      "text/plain": [
       "1.5627153193985828e-15"
      ]
     },
     "metadata": {},
     "output_type": "display_data"
    },
    {
     "data": {
      "text/plain": [
       "matrix([[ 0.13996157, -0.09131076,  0.19973646,  0.81445606, -0.49267889,\n",
       "          0.46521756, -0.12846847, -0.1950714 ,  0.03303968,  0.28434894,\n",
       "         -1.82447155,  0.15564041]])"
      ]
     },
     "metadata": {},
     "output_type": "display_data"
    }
   ],
   "source": [
    "display(sigma3,coef3)"
   ]
  },
  {
   "cell_type": "code",
   "execution_count": 22,
   "metadata": {},
   "outputs": [],
   "source": [
    "beta30,beta31,beta32=coef3[:,-1],coef3[:,:X.shape[0]],coef3[:,X.shape[0]:-1]"
   ]
  },
  {
   "cell_type": "code",
   "execution_count": 23,
   "metadata": {},
   "outputs": [
    {
     "data": {
      "text/plain": [
       "matrix([[0.15564041]])"
      ]
     },
     "metadata": {},
     "output_type": "display_data"
    },
    {
     "data": {
      "text/plain": [
       "matrix([[ 0.13996157, -0.09131076,  0.19973646,  0.81445606, -0.49267889,\n",
       "          0.46521756, -0.12846847]])"
      ]
     },
     "metadata": {},
     "output_type": "display_data"
    },
    {
     "data": {
      "text/plain": [
       "matrix([[-0.1950714 ,  0.03303968,  0.28434894, -1.82447155]])"
      ]
     },
     "metadata": {},
     "output_type": "display_data"
    }
   ],
   "source": [
    "display(beta30,beta31,beta32)"
   ]
  },
  {
   "cell_type": "code",
   "execution_count": 24,
   "metadata": {},
   "outputs": [
    {
     "data": {
      "text/plain": [
       "matrix([[ 0.72568213,  2.32277256, -2.69670283, -2.5822871 ]])"
      ]
     },
     "execution_count": 24,
     "metadata": {},
     "output_type": "execute_result"
    }
   ],
   "source": [
    "beta30+beta31.dot(X)+beta32.dot(output[\"Metabolite\"])"
   ]
  },
  {
   "cell_type": "markdown",
   "metadata": {},
   "source": [
    "<hr>"
   ]
  },
  {
   "cell_type": "code",
   "execution_count": 25,
   "metadata": {},
   "outputs": [
    {
     "data": {
      "text/plain": [
       "matrix([[ True,  True,  True,  True,  True, False,  True]])"
      ]
     },
     "execution_count": 25,
     "metadata": {},
     "output_type": "execute_result"
    }
   ],
   "source": [
    "np.abs(beta31)<np.abs(beta11)"
   ]
  },
  {
   "cell_type": "code",
   "execution_count": 28,
   "metadata": {},
   "outputs": [
    {
     "data": {
      "text/plain": [
       "(matrix([[0.46521756]]), matrix([[0.37055613]]))"
      ]
     },
     "execution_count": 28,
     "metadata": {},
     "output_type": "execute_result"
    }
   ],
   "source": [
    "beta31[:,-2],beta11[:,-2]"
   ]
  },
  {
   "cell_type": "code",
   "execution_count": null,
   "metadata": {},
   "outputs": [],
   "source": []
  },
  {
   "cell_type": "code",
   "execution_count": null,
   "metadata": {},
   "outputs": [],
   "source": []
  },
  {
   "cell_type": "code",
   "execution_count": null,
   "metadata": {},
   "outputs": [],
   "source": []
  },
  {
   "cell_type": "code",
   "execution_count": null,
   "metadata": {},
   "outputs": [],
   "source": []
  }
 ],
 "metadata": {
  "kernelspec": {
   "display_name": "Python [conda env:DSC] *",
   "language": "python",
   "name": "conda-env-DSC-py"
  },
  "language_info": {
   "codemirror_mode": {
    "name": "ipython",
    "version": 3
   },
   "file_extension": ".py",
   "mimetype": "text/x-python",
   "name": "python",
   "nbconvert_exporter": "python",
   "pygments_lexer": "ipython3",
   "version": "3.7.3"
  }
 },
 "nbformat": 4,
 "nbformat_minor": 2
}
