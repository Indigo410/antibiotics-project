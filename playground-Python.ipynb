{
 "cells": [
  {
   "cell_type": "code",
   "execution_count": 1,
   "metadata": {},
   "outputs": [],
   "source": [
    "%load_ext autoreload\n",
    "%autoreload 2"
   ]
  },
  {
   "cell_type": "code",
   "execution_count": 2,
   "metadata": {},
   "outputs": [],
   "source": [
    "from numpy.linalg import inv,qr,solve,lstsq\n",
    "from scipy.linalg import eigh"
   ]
  },
  {
   "cell_type": "code",
   "execution_count": 3,
   "metadata": {},
   "outputs": [],
   "source": [
    "from numpy.random import multivariate_normal"
   ]
  },
  {
   "cell_type": "code",
   "execution_count": 5,
   "metadata": {},
   "outputs": [],
   "source": [
    "import matplotlib.pyplot as plt"
   ]
  },
  {
   "cell_type": "code",
   "execution_count": 6,
   "metadata": {},
   "outputs": [],
   "source": [
    "from Bio import Phylo"
   ]
  },
  {
   "cell_type": "code",
   "execution_count": 7,
   "metadata": {},
   "outputs": [],
   "source": [
    "from Bio.Phylo.TreeConstruction import DistanceTreeConstructor,DistanceMatrix"
   ]
  },
  {
   "cell_type": "code",
   "execution_count": 8,
   "metadata": {},
   "outputs": [],
   "source": [
    "import numpy as np"
   ]
  },
  {
   "cell_type": "code",
   "execution_count": 9,
   "metadata": {},
   "outputs": [],
   "source": [
    "mat=list(map(lambda x: list(filter(lambda x:x>0,x)),np.tril(np.random.rand(4,4)).tolist()))"
   ]
  },
  {
   "cell_type": "code",
   "execution_count": 10,
   "metadata": {},
   "outputs": [
    {
     "data": {
      "text/plain": [
       "[[0.21899494912999562],\n",
       " [0.8068202500607748, 0.5419142492806951],\n",
       " [0.11285901475678939, 0.08337752472676829, 0.5419279913381005],\n",
       " [0.44349015473252407,\n",
       "  0.7135351882498656,\n",
       "  0.5058745031904701,\n",
       "  0.21575576203467073]]"
      ]
     },
     "execution_count": 10,
     "metadata": {},
     "output_type": "execute_result"
    }
   ],
   "source": [
    "mat"
   ]
  },
  {
   "cell_type": "code",
   "execution_count": 11,
   "metadata": {},
   "outputs": [
    {
     "name": "stdout",
     "output_type": "stream",
     "text": [
      "Tree(rooted=True)\n",
      "    Clade(branch_length=0, name='Inner3')\n",
      "        Clade(branch_length=0.22569735716885336, name='Inner1')\n",
      "            Clade(branch_length=0.041688762363384146, name='c')\n",
      "            Clade(branch_length=0.041688762363384146, name='b')\n",
      "        Clade(branch_length=0.045641042165975476, name='Inner2')\n",
      "            Clade(branch_length=0.22174507736626203, name='d')\n",
      "            Clade(branch_length=0.22174507736626203, name='a')\n"
     ]
    }
   ],
   "source": [
    "constructor = DistanceTreeConstructor()\n",
    "upgmatree = constructor.upgma(DistanceMatrix(list(\"abcd\"),mat))\n",
    "print(upgmatree)"
   ]
  },
  {
   "cell_type": "code",
   "execution_count": 12,
   "metadata": {},
   "outputs": [
    {
     "name": "stdout",
     "output_type": "stream",
     "text": [
      "                                                                  ___________ c\n",
      "  _______________________________________________________________|\n",
      " |                                                               |___________ b\n",
      "_|\n",
      " |            _______________________________________________________________ d\n",
      " |___________|\n",
      "             |_______________________________________________________________ a\n",
      "\n"
     ]
    }
   ],
   "source": [
    "Phylo.draw_ascii(upgmatree)"
   ]
  },
  {
   "cell_type": "code",
   "execution_count": 13,
   "metadata": {},
   "outputs": [],
   "source": [
    "corr=np.zeros((4,4))"
   ]
  },
  {
   "cell_type": "code",
   "execution_count": 20,
   "metadata": {},
   "outputs": [],
   "source": [
    "corr[0,3]=0.8\n",
    "corr[3,0]=0.8\n",
    "\n",
    "corr[1,2]=0.8\n",
    "corr[2,1]=0.8\n",
    "\n",
    "for i in range(4):\n",
    "    corr[i,i]=1"
   ]
  },
  {
   "cell_type": "code",
   "execution_count": 21,
   "metadata": {},
   "outputs": [
    {
     "data": {
      "text/plain": [
       "array([[1. , 0. , 0. , 0.8],\n",
       "       [0. , 1. , 0.8, 0. ],\n",
       "       [0. , 0.8, 1. , 0. ],\n",
       "       [0.8, 0. , 0. , 1. ]])"
      ]
     },
     "execution_count": 21,
     "metadata": {},
     "output_type": "execute_result"
    }
   ],
   "source": [
    "corr"
   ]
  },
  {
   "cell_type": "code",
   "execution_count": 23,
   "metadata": {},
   "outputs": [
    {
     "data": {
      "text/plain": [
       "array([[ 0.27666667, -0.27      , -0.27      ,  0.26333333],\n",
       "       [-0.27      ,  0.27666667,  0.26333333, -0.27      ],\n",
       "       [-0.27      ,  0.26333333,  0.27666667, -0.27      ],\n",
       "       [ 0.26333333, -0.27      , -0.27      ,  0.27666667]])"
      ]
     },
     "execution_count": 23,
     "metadata": {},
     "output_type": "execute_result"
    }
   ],
   "source": [
    "cov=np.cov(corr)\n",
    "cov"
   ]
  },
  {
   "cell_type": "code",
   "execution_count": 25,
   "metadata": {},
   "outputs": [
    {
     "data": {
      "text/plain": [
       "(array([ 1.08000000e+00+0.00000000e+00j, -5.87256545e-18+0.00000000e+00j,\n",
       "         1.33333333e-02+2.65257545e-17j,  1.33333333e-02-2.65257545e-17j]),\n",
       " array([[-0.5       +0.00000000e+00j, -0.5       +0.00000000e+00j,\n",
       "          0.01011571+3.09339439e-01j,  0.01011571-3.09339439e-01j],\n",
       "        [ 0.5       +0.00000000e+00j, -0.5       +0.00000000e+00j,\n",
       "          0.63577259+0.00000000e+00j,  0.63577259-0.00000000e+00j],\n",
       "        [ 0.5       +0.00000000e+00j, -0.5       +0.00000000e+00j,\n",
       "         -0.63577259+1.84811095e-15j, -0.63577259-1.84811095e-15j],\n",
       "        [-0.5       +0.00000000e+00j, -0.5       +0.00000000e+00j,\n",
       "         -0.01011571-3.09339439e-01j, -0.01011571+3.09339439e-01j]]))"
      ]
     },
     "execution_count": 25,
     "metadata": {},
     "output_type": "execute_result"
    }
   ],
   "source": [
    "np.linalg.eig(cov)"
   ]
  },
  {
   "cell_type": "code",
   "execution_count": 34,
   "metadata": {},
   "outputs": [
    {
     "data": {
      "text/plain": [
       "array([[0.        , 0.        , 0.        , 0.        ],\n",
       "       [0.95408732, 0.        , 0.        , 0.        ],\n",
       "       [0.02991413, 0.38414631, 0.        , 0.        ],\n",
       "       [0.90414955, 0.84937076, 0.01423802, 0.        ]])"
      ]
     },
     "execution_count": 34,
     "metadata": {},
     "output_type": "execute_result"
    }
   ],
   "source": [
    "r=np.random.rand(4,4)\n",
    "r=np.tril(r,-1)\n",
    "r"
   ]
  },
  {
   "cell_type": "code",
   "execution_count": 38,
   "metadata": {},
   "outputs": [],
   "source": [
    "c=np.cov(1-(r+r.T))"
   ]
  },
  {
   "cell_type": "code",
   "execution_count": 39,
   "metadata": {},
   "outputs": [
    {
     "data": {
      "text/plain": [
       "(array([0.        , 0.36021921, 0.13416493, 0.26593162]),\n",
       " array([[-0.13779487, -0.74749874, -0.51122551, -0.40113175],\n",
       "        [ 0.22441979,  0.54214314, -0.80768323, -0.05800325],\n",
       "        [ 0.94771818, -0.2857873 ,  0.06233957,  0.12755253],\n",
       "        [-0.18021816, -0.25622658, -0.28707153,  0.90523991]]))"
      ]
     },
     "execution_count": 39,
     "metadata": {},
     "output_type": "execute_result"
    }
   ],
   "source": [
    "np.linalg.eig(c)"
   ]
  },
  {
   "cell_type": "code",
   "execution_count": 40,
   "metadata": {},
   "outputs": [
    {
     "data": {
      "text/plain": [
       "[[0],\n",
       " [0.8068202500607748, 0],\n",
       " [0.11285901475678939, 0.08337752472676829, 0],\n",
       " [0.44349015473252407, 0.7135351882498656, 0.5058745031904701, 0]]"
      ]
     },
     "execution_count": 40,
     "metadata": {},
     "output_type": "execute_result"
    }
   ],
   "source": [
    "mat"
   ]
  },
  {
   "cell_type": "code",
   "execution_count": null,
   "metadata": {},
   "outputs": [],
   "source": []
  },
  {
   "cell_type": "code",
   "execution_count": 62,
   "metadata": {},
   "outputs": [],
   "source": [
    "import numpy as np"
   ]
  },
  {
   "cell_type": "code",
   "execution_count": 86,
   "metadata": {},
   "outputs": [
    {
     "data": {
      "text/plain": [
       "array([2, 1, 3])"
      ]
     },
     "execution_count": 86,
     "metadata": {},
     "output_type": "execute_result"
    }
   ],
   "source": [
    "np.random.choice(range(1,n+1),n)"
   ]
  },
  {
   "cell_type": "code",
   "execution_count": 102,
   "metadata": {},
   "outputs": [],
   "source": [
    "from scipy.spatial.distance import pdist"
   ]
  },
  {
   "cell_type": "code",
   "execution_count": 103,
   "metadata": {},
   "outputs": [
    {
     "data": {
      "text/plain": [
       "array([1., 0., 1.])"
      ]
     },
     "execution_count": 103,
     "metadata": {},
     "output_type": "execute_result"
    }
   ],
   "source": [
    "pdist(r)"
   ]
  },
  {
   "cell_type": "code",
   "execution_count": null,
   "metadata": {},
   "outputs": [],
   "source": []
  },
  {
   "cell_type": "code",
   "execution_count": 111,
   "metadata": {},
   "outputs": [
    {
     "data": {
      "text/plain": [
       "array([1.41421356, 1.        , 1.73205081])"
      ]
     },
     "execution_count": 111,
     "metadata": {},
     "output_type": "execute_result"
    }
   ],
   "source": [
    "n=3\n",
    "r=np.random.choice((0,1),(n,n))\n",
    "pdist(r)"
   ]
  },
  {
   "cell_type": "code",
   "execution_count": 112,
   "metadata": {},
   "outputs": [
    {
     "data": {
      "text/plain": [
       "array([[1, 1, 1],\n",
       "       [0, 1, 0],\n",
       "       [1, 0, 1]])"
      ]
     },
     "execution_count": 112,
     "metadata": {},
     "output_type": "execute_result"
    }
   ],
   "source": [
    "r"
   ]
  },
  {
   "cell_type": "code",
   "execution_count": 99,
   "metadata": {},
   "outputs": [
    {
     "data": {
      "text/plain": [
       "array([[0, 1, 1],\n",
       "       [0, 2, 1],\n",
       "       [0, 3, 2]])"
      ]
     },
     "execution_count": 99,
     "metadata": {},
     "output_type": "execute_result"
    }
   ],
   "source": [
    "np.cumsum(r,axis=0)"
   ]
  },
  {
   "cell_type": "code",
   "execution_count": 58,
   "metadata": {},
   "outputs": [],
   "source": [
    "cal=DistanceCalculator()"
   ]
  },
  {
   "cell_type": "code",
   "execution_count": 60,
   "metadata": {},
   "outputs": [
    {
     "ename": "TypeError",
     "evalue": "Must provide a MultipleSeqAlignment object.",
     "output_type": "error",
     "traceback": [
      "\u001b[0;31m---------------------------------------------------------------------------\u001b[0m",
      "\u001b[0;31mTypeError\u001b[0m                                 Traceback (most recent call last)",
      "\u001b[0;32m<ipython-input-60-faa011ca4ece>\u001b[0m in \u001b[0;36m<module>\u001b[0;34m\u001b[0m\n\u001b[0;32m----> 1\u001b[0;31m \u001b[0mcal\u001b[0m\u001b[0;34m.\u001b[0m\u001b[0mget_distance\u001b[0m\u001b[0;34m(\u001b[0m\u001b[0mtree\u001b[0m\u001b[0;34m)\u001b[0m\u001b[0;34m\u001b[0m\u001b[0;34m\u001b[0m\u001b[0m\n\u001b[0m",
      "\u001b[0;32m~/anaconda3/envs/DSC/lib/python3.7/site-packages/Bio/Phylo/TreeConstruction.py\u001b[0m in \u001b[0;36mget_distance\u001b[0;34m(self, msa)\u001b[0m\n\u001b[1;32m    546\u001b[0m         \"\"\"\n\u001b[1;32m    547\u001b[0m         \u001b[0;32mif\u001b[0m \u001b[0;32mnot\u001b[0m \u001b[0misinstance\u001b[0m\u001b[0;34m(\u001b[0m\u001b[0mmsa\u001b[0m\u001b[0;34m,\u001b[0m \u001b[0mMultipleSeqAlignment\u001b[0m\u001b[0;34m)\u001b[0m\u001b[0;34m:\u001b[0m\u001b[0;34m\u001b[0m\u001b[0;34m\u001b[0m\u001b[0m\n\u001b[0;32m--> 548\u001b[0;31m             \u001b[0;32mraise\u001b[0m \u001b[0mTypeError\u001b[0m\u001b[0;34m(\u001b[0m\u001b[0;34m\"Must provide a MultipleSeqAlignment object.\"\u001b[0m\u001b[0;34m)\u001b[0m\u001b[0;34m\u001b[0m\u001b[0;34m\u001b[0m\u001b[0m\n\u001b[0m\u001b[1;32m    549\u001b[0m \u001b[0;34m\u001b[0m\u001b[0m\n\u001b[1;32m    550\u001b[0m         \u001b[0mnames\u001b[0m \u001b[0;34m=\u001b[0m \u001b[0;34m[\u001b[0m\u001b[0ms\u001b[0m\u001b[0;34m.\u001b[0m\u001b[0mid\u001b[0m \u001b[0;32mfor\u001b[0m \u001b[0ms\u001b[0m \u001b[0;32min\u001b[0m \u001b[0mmsa\u001b[0m\u001b[0;34m]\u001b[0m\u001b[0;34m\u001b[0m\u001b[0;34m\u001b[0m\u001b[0m\n",
      "\u001b[0;31mTypeError\u001b[0m: Must provide a MultipleSeqAlignment object."
     ]
    }
   ],
   "source": [
    "cal.get_distance()"
   ]
  },
  {
   "cell_type": "code",
   "execution_count": 87,
   "metadata": {},
   "outputs": [
    {
     "data": {
      "image/png": "[encoded data removed]",
      "text/plain": [
       "<Figure size 432x288 with 1 Axes>"
      ]
     },
     "metadata": {},
     "output_type": "display_data"
    }
   ],
   "source": [
    "g=random_powerlaw_tree(5)\n",
    "nx.draw_networkx(g)\n",
    "plt.draw()"
   ]
  },
  {
   "cell_type": "code",
   "execution_count": 38,
   "metadata": {},
   "outputs": [
    {
     "data": {
      "image/png": "[encoded data removed]",
      "text/plain": [
       "<Figure size 432x288 with 1 Axes>"
      ]
     },
     "metadata": {},
     "output_type": "display_data"
    }
   ],
   "source": [
    "t=random_tree(10)\n",
    "nx.draw_networkx(t)\n",
    "plt.draw()"
   ]
  },
  {
   "cell_type": "code",
   "execution_count": 23,
   "metadata": {},
   "outputs": [
    {
     "data": {
      "text/plain": [
       "DegreeView({0: 1, 1: 3, 2: 1, 3: 2, 4: 1})"
      ]
     },
     "execution_count": 23,
     "metadata": {},
     "output_type": "execute_result"
    }
   ],
   "source": [
    "nx.degree(t)"
   ]
  },
  {
   "cell_type": "code",
   "execution_count": 24,
   "metadata": {},
   "outputs": [
    {
     "data": {
      "text/plain": [
       "{0: {1: {}},\n",
       " 1: {0: {}, 2: {}, 3: {}},\n",
       " 2: {1: {}},\n",
       " 3: {1: {}, 4: {}},\n",
       " 4: {3: {}}}"
      ]
     },
     "execution_count": 24,
     "metadata": {},
     "output_type": "execute_result"
    }
   ],
   "source": [
    "dict(t.adjacency())"
   ]
  },
  {
   "cell_type": "markdown",
   "metadata": {},
   "source": [
    "<hr><hr><hr>"
   ]
  },
  {
   "cell_type": "code",
   "execution_count": 48,
   "metadata": {},
   "outputs": [],
   "source": [
    "from simulation import Simulation"
   ]
  },
  {
   "cell_type": "code",
   "execution_count": 46,
   "metadata": {},
   "outputs": [],
   "source": [
    "var={'n':5,\n",
    "     'p_otu':8, \n",
    "     'p_metabolite':4}"
   ]
  },
  {
   "cell_type": "code",
   "execution_count": 38,
   "metadata": {},
   "outputs": [],
   "source": [
    "s = Simulation(**var)"
   ]
  },
  {
   "cell_type": "code",
   "execution_count": 39,
   "metadata": {},
   "outputs": [
    {
     "data": {
      "text/plain": [
       "(array([[-1.09413052, -2.86358108, -1.62928476, -2.91730696, -2.34072162],\n",
       "        [ 0.67110169,  0.5672773 ,  0.5480107 ,  0.66870114,  0.62176282],\n",
       "        [ 0.11386258,  0.11963216,  0.46145456,  0.02473795,  0.08133202],\n",
       "        [ 0.77462969,  0.31965929,  0.80809586,  0.42164611,  0.05315723],\n",
       "        [ 0.61042962,  0.11218116,  0.82654212,  0.80768169,  0.61371448],\n",
       "        [ 0.39765992,  0.74695329,  0.58868682,  0.59768379,  0.78682943],\n",
       "        [ 0.51800812,  0.54575577,  0.55992744,  0.73430938,  0.28283605],\n",
       "        [ 0.39925949,  0.98636964,  0.9639952 ,  0.53638257,  0.97614645]]),\n",
       " array([[0.85376172, 1.09777181, 1.07947054, 0.49560908, 0.00110802],\n",
       "        [0.79027549, 0.88549468, 0.04341083, 0.68010514, 0.62150833],\n",
       "        [0.8900151 , 0.74157567, 0.87349379, 0.62200742, 0.26275196],\n",
       "        [0.14156715, 0.17102327, 0.95294667, 0.38739045, 0.89263562]]))"
      ]
     },
     "execution_count": 39,
     "metadata": {},
     "output_type": "execute_result"
    }
   ],
   "source": [
    "s.run_simulation()"
   ]
  },
  {
   "cell_type": "code",
   "execution_count": 40,
   "metadata": {},
   "outputs": [
    {
     "data": {
      "text/plain": [
       "array([1., 0., 0., 0., 0., 0., 0., 0.])"
      ]
     },
     "execution_count": 40,
     "metadata": {},
     "output_type": "execute_result"
    }
   ],
   "source": [
    "s.is_dependent"
   ]
  },
  {
   "cell_type": "markdown",
   "metadata": {},
   "source": [
    "<hr><hr><hr>"
   ]
  },
  {
   "cell_type": "code",
   "execution_count": 9,
   "metadata": {},
   "outputs": [
    {
     "ename": "NameError",
     "evalue": "name 'multi_var_mediation' is not defined",
     "output_type": "error",
     "traceback": [
      "\u001b[0;31m---------------------------------------------------------------------------\u001b[0m",
      "\u001b[0;31mNameError\u001b[0m                                 Traceback (most recent call last)",
      "\u001b[0;32m<ipython-input-9-30b9248435c3>\u001b[0m in \u001b[0;36m<module>\u001b[0;34m\u001b[0m\n\u001b[1;32m      3\u001b[0m      \u001b[0;34m'p_metabolite'\u001b[0m\u001b[0;34m:\u001b[0m\u001b[0;36m4\u001b[0m\u001b[0;34m,\u001b[0m\u001b[0;34m\u001b[0m\u001b[0;34m\u001b[0m\u001b[0m\n\u001b[1;32m      4\u001b[0m      \u001b[0;34m'mediations'\u001b[0m\u001b[0;34m:\u001b[0m\u001b[0;36m1\u001b[0m\u001b[0;34m,\u001b[0m\u001b[0;34m\u001b[0m\u001b[0;34m\u001b[0m\u001b[0m\n\u001b[0;32m----> 5\u001b[0;31m      \u001b[0;34m'mediation_func'\u001b[0m\u001b[0;34m:\u001b[0m\u001b[0mmulti_var_mediation\u001b[0m\u001b[0;34m\u001b[0m\u001b[0;34m\u001b[0m\u001b[0m\n\u001b[0m\u001b[1;32m      6\u001b[0m     }\n\u001b[1;32m      7\u001b[0m \u001b[0;34m\u001b[0m\u001b[0m\n",
      "\u001b[0;31mNameError\u001b[0m: name 'multi_var_mediation' is not defined"
     ]
    }
   ],
   "source": [
    "var={'n':5,\n",
    "     'p_otu':8, \n",
    "     'p_metabolite':4, \n",
    "     'mediations':1,\n",
    "     'mediation_func':multi_var_mediation\n",
    "    }\n",
    "\n",
    "truth_coef={\n",
    "    'beta11':-2,\n",
    "    'beta21':2,\n",
    "    'beta32':-1.5\n",
    "}"
   ]
  },
  {
   "cell_type": "code",
   "execution_count": 68,
   "metadata": {},
   "outputs": [],
   "source": [
    "output=simulate_simple_mediation(**var)"
   ]
  },
  {
   "cell_type": "code",
   "execution_count": 69,
   "metadata": {},
   "outputs": [
    {
     "data": {
      "text/plain": [
       "matrix([[  0.85954909,   0.74070169,   0.22128909,   0.42653442,\n",
       "           0.30955746],\n",
       "        [  0.69135427,   0.44331381,   0.52861219,   0.13873374,\n",
       "           0.96870398],\n",
       "        [  0.22807235,   0.5334323 ,   0.63143952,   0.40239475,\n",
       "           0.70733449],\n",
       "        [  0.82499205,   0.22460585,   0.05925081,   0.19797856,\n",
       "           0.26667491],\n",
       "        [  0.59895953,   0.85522022,   0.98378675,   0.93477717,\n",
       "           0.29077958],\n",
       "        [  0.36085925,   0.41000061,   0.25967223,   0.30522432,\n",
       "           0.96787329],\n",
       "        [  1.6451183 ,   1.3156046 ,   0.58719372,   0.81136577,\n",
       "          -0.5321573 ],\n",
       "        [ -6.86839355, -10.08565447,  -3.99298396,  -4.98718679,\n",
       "           1.20197871]])"
      ]
     },
     "execution_count": 69,
     "metadata": {},
     "output_type": "execute_result"
    }
   ],
   "source": [
    "output[\"OTU\"]"
   ]
  },
  {
   "cell_type": "code",
   "execution_count": 86,
   "metadata": {},
   "outputs": [
    {
     "data": {
      "text/html": [
       "<div>\n",
       "<style scoped>\n",
       "    .dataframe tbody tr th:only-of-type {\n",
       "        vertical-align: middle;\n",
       "    }\n",
       "\n",
       "    .dataframe tbody tr th {\n",
       "        vertical-align: top;\n",
       "    }\n",
       "\n",
       "    .dataframe thead th {\n",
       "        text-align: right;\n",
       "    }\n",
       "</style>\n",
       "<table border=\"1\" class=\"dataframe\">\n",
       "  <thead>\n",
       "    <tr style=\"text-align: right;\">\n",
       "      <th></th>\n",
       "      <th>0</th>\n",
       "      <th>1</th>\n",
       "      <th>2</th>\n",
       "      <th>3</th>\n",
       "      <th>4</th>\n",
       "      <th>5</th>\n",
       "    </tr>\n",
       "  </thead>\n",
       "  <tbody>\n",
       "    <tr>\n",
       "      <th>0</th>\n",
       "      <td>0.616196</td>\n",
       "      <td>1.446333</td>\n",
       "      <td>0.822214</td>\n",
       "      <td>1.370013</td>\n",
       "      <td>-0.556714</td>\n",
       "      <td>-0.002943</td>\n",
       "    </tr>\n",
       "    <tr>\n",
       "      <th>1</th>\n",
       "      <td>-5.137859</td>\n",
       "      <td>-8.211168</td>\n",
       "      <td>-2.068757</td>\n",
       "      <td>-7.515939</td>\n",
       "      <td>1.787345</td>\n",
       "      <td>-0.259962</td>\n",
       "    </tr>\n",
       "  </tbody>\n",
       "</table>\n",
       "</div>"
      ],
      "text/plain": [
       "          0         1         2         3         4         5\n",
       "0  0.616196  1.446333  0.822214  1.370013 -0.556714 -0.002943\n",
       "1 -5.137859 -8.211168 -2.068757 -7.515939  1.787345 -0.259962"
      ]
     },
     "execution_count": 86,
     "metadata": {},
     "output_type": "execute_result"
    }
   ],
   "source": [
    "import pandas as pd\n",
    "pd.DataFrame(multi_var_mediation(6)['OTU'])"
   ]
  },
  {
   "cell_type": "code",
   "execution_count": 74,
   "metadata": {},
   "outputs": [
    {
     "ename": "NameError",
     "evalue": "name '_A' is not defined",
     "output_type": "error",
     "traceback": [
      "\u001b[0;31m---------------------------------------------------------------------------\u001b[0m",
      "\u001b[0;31mNameError\u001b[0m                                 Traceback (most recent call last)",
      "\u001b[0;32m<ipython-input-74-9b4d1744c40a>\u001b[0m in \u001b[0;36m<module>\u001b[0;34m\u001b[0m\n\u001b[0;32m----> 1\u001b[0;31m (np.random.multivariate_normal(3,_A(3))\n\u001b[0m\u001b[1;32m      2\u001b[0m              +np.random.rand(3))\n",
      "\u001b[0;31mNameError\u001b[0m: name '_A' is not defined"
     ]
    }
   ],
   "source": [
    "(np.random.multivariate_normal(3,_A(3))\n",
    "             +np.random.rand(3))"
   ]
  },
  {
   "cell_type": "code",
   "execution_count": null,
   "metadata": {},
   "outputs": [],
   "source": []
  },
  {
   "cell_type": "code",
   "execution_count": null,
   "metadata": {},
   "outputs": [],
   "source": []
  },
  {
   "cell_type": "markdown",
   "metadata": {},
   "source": [
    "<hr><hr>"
   ]
  },
  {
   "cell_type": "code",
   "execution_count": 20,
   "metadata": {},
   "outputs": [
    {
     "data": {
      "text/plain": [
       "array([[1., 1., 0., 0., 0.],\n",
       "       [1., 1., 0., 0., 0.],\n",
       "       [0., 0., 1., 1., 0.],\n",
       "       [0., 0., 1., 1., 0.],\n",
       "       [0., 0., 0., 0., 1.]])"
      ]
     },
     "execution_count": 20,
     "metadata": {},
     "output_type": "execute_result"
    }
   ],
   "source": [
    "n=5\n",
    "m=np.zeros((n,n))\n",
    "np.fill_diagonal(m,1)\n",
    "for i,j in ((1,0),(3,2)):\n",
    "    m[i,j]=1\n",
    "    m[j,i]=1\n",
    "m"
   ]
  },
  {
   "cell_type": "code",
   "execution_count": 24,
   "metadata": {},
   "outputs": [
    {
     "data": {
      "text/plain": [
       "True"
      ]
     },
     "execution_count": 24,
     "metadata": {},
     "output_type": "execute_result"
    }
   ],
   "source": [
    "E,_=eigh(m)\n",
    "all(E>=0)"
   ]
  },
  {
   "cell_type": "code",
   "execution_count": 44,
   "metadata": {},
   "outputs": [
    {
     "data": {
      "text/plain": [
       "array([[ 1.21648903,  1.79526987,  0.13492755, -0.11878648, -0.88300113],\n",
       "       [ 0.43722764,  1.01600847,  0.67914257,  0.42542856,  0.70962726],\n",
       "       [-0.82705622, -0.24827539,  1.04972768,  0.79601366,  1.5952337 ]])"
      ]
     },
     "execution_count": 44,
     "metadata": {},
     "output_type": "execute_result"
    }
   ],
   "source": [
    "n=3\n",
    "(np.random.multivariate_normal(np.zeros(A.shape[0]),A,size=n)\n",
    "             +np.random.rand(5))"
   ]
  },
  {
   "cell_type": "code",
   "execution_count": 58,
   "metadata": {},
   "outputs": [
    {
     "data": {
      "text/plain": [
       "{'OTU': array([[ 0.91489916,  0.97445274, -0.43176479,  0.12025238, -0.93237344],\n",
       "        [-2.74424465, -5.69584803,  3.83024112,  1.12514827,  3.10619331]]),\n",
       " 'Metabolite': array([[ 1.89804088,  2.10985729, -1.53425391,  0.40175619, -2.05485462]])}"
      ]
     },
     "execution_count": 58,
     "metadata": {},
     "output_type": "execute_result"
    }
   ],
   "source": [
    "multi_var_mediation(m)"
   ]
  },
  {
   "cell_type": "code",
   "execution_count": 55,
   "metadata": {},
   "outputs": [
    {
     "data": {
      "text/plain": [
       "array([[ 0.38761842,  0.84565225,  0.92599178,  0.38934802,  0.93610891],\n",
       "       [-0.37078305, -3.68580675, -5.11489282, -1.23303441, -5.49853996]])"
      ]
     },
     "execution_count": 55,
     "metadata": {},
     "output_type": "execute_result"
    }
   ],
   "source": [
    "simple_mediation(5)[\"OTU\"]"
   ]
  },
  {
   "cell_type": "code",
   "execution_count": 56,
   "metadata": {},
   "outputs": [
    {
     "data": {
      "text/plain": [
       "array([ 0.09710134,  0.09710134, -0.03743911, -0.0374391 ,  0.613341  ])"
      ]
     },
     "execution_count": 56,
     "metadata": {},
     "output_type": "execute_result"
    }
   ],
   "source": [
    "multivariate_normal(np.zeros(5),A)"
   ]
  },
  {
   "cell_type": "code",
   "execution_count": 35,
   "metadata": {},
   "outputs": [
    {
     "data": {
      "text/plain": [
       "array([[-2.11504819, -2.82738011, -0.18941214,  0.13350821,  0.85738217],\n",
       "       [ 0.3566925 , -0.35563944,  2.3634472 ,  2.68636755,  0.27014644],\n",
       "       [ 1.65091378,  0.93858185, -0.07044582,  0.25247451,  0.799968  ],\n",
       "       [-1.47157362, -2.18390555,  0.76470267,  1.08762303,  1.40879452],\n",
       "       [ 0.31349103, -0.3988409 , -0.454042  , -0.13112166,  0.36434141]])"
      ]
     },
     "execution_count": 35,
     "metadata": {},
     "output_type": "execute_result"
    }
   ],
   "source": [
    "A=m\n",
    "n=A.shape[0]\n",
    "producer=(np.random.multivariate_normal(np.zeros(n),A,size=n)\n",
    "         +np.random.rand(n))\n",
    "producer"
   ]
  },
  {
   "cell_type": "code",
   "execution_count": 37,
   "metadata": {},
   "outputs": [
    {
     "data": {
      "text/plain": [
       "array([[-2.11504819, -2.82738011, -0.18941214,  0.13350821,  0.85738217],\n",
       "       [ 0.3566925 , -0.35563944,  2.3634472 ,  2.68636755,  0.27014644],\n",
       "       [ 1.65091378,  0.93858185, -0.07044582,  0.25247451,  0.799968  ],\n",
       "       [-1.47157362, -2.18390555,  0.76470267,  1.08762303,  1.40879452],\n",
       "       [ 0.31349103, -0.3988409 , -0.454042  , -0.13112166,  0.36434141]])"
      ]
     },
     "execution_count": 37,
     "metadata": {},
     "output_type": "execute_result"
    }
   ],
   "source": [
    "producer"
   ]
  },
  {
   "cell_type": "code",
   "execution_count": null,
   "metadata": {},
   "outputs": [],
   "source": []
  },
  {
   "cell_type": "markdown",
   "metadata": {},
   "source": [
    "<hr><hr><hr>"
   ]
  },
  {
   "cell_type": "code",
   "execution_count": null,
   "metadata": {},
   "outputs": [],
   "source": []
  },
  {
   "cell_type": "code",
   "execution_count": null,
   "metadata": {},
   "outputs": [],
   "source": []
  },
  {
   "cell_type": "code",
   "execution_count": 11,
   "metadata": {},
   "outputs": [],
   "source": [
    "a=np.random.rand(20).reshape((4,5))"
   ]
  },
  {
   "cell_type": "code",
   "execution_count": 34,
   "metadata": {},
   "outputs": [
    {
     "data": {
      "text/plain": [
       "(10, 10)"
      ]
     },
     "execution_count": 34,
     "metadata": {},
     "output_type": "execute_result"
    }
   ],
   "source": [
    "np.random.rand(10,10).shape"
   ]
  },
  {
   "cell_type": "code",
   "execution_count": 40,
   "metadata": {},
   "outputs": [
    {
     "data": {
      "text/plain": [
       "{'OTU': array([[  2.40447881,   2.12028552,   1.78767821,   2.07711469,\n",
       "           0.9724978 ],\n",
       "        [  1.01692674,   1.48927675,   1.77197809,   0.79490353,\n",
       "           2.34675115],\n",
       "        [  1.06630122,   0.0437236 ,  -0.31505709,   0.7795981 ,\n",
       "           0.30889588],\n",
       "        [  1.24509397,   0.02219495,   1.65645071,   1.15282809,\n",
       "           0.98934482],\n",
       "        [  2.43580765,   1.35396732,   2.40601926,   2.62250526,\n",
       "           2.88045493],\n",
       "        [-12.05646206, -10.08124712,  -9.37077836,  -7.71726287,\n",
       "          -5.63467205],\n",
       "        [ -5.11870174,  -6.92620327,  -9.29227776,  -1.30620705,\n",
       "         -12.5059388 ],\n",
       "        [ -5.36557411,   0.30156245,   1.14289812,  -1.2296799 ,\n",
       "          -2.31666244],\n",
       "        [ -6.25953788,   0.40920574,  -8.71464084,  -3.09582986,\n",
       "          -5.71890713],\n",
       "        [-12.21310627,  -6.24965615, -12.4624836 , -10.44421569,\n",
       "         -15.17445767]]),\n",
       " 'Metabolite': array([[[ 4.37130653e+00,  4.17908748e+00,  4.19981809e+00,\n",
       "           3.74167521e+00,  2.08087741e+00],\n",
       "         [ 1.59620240e+00,  2.91706994e+00,  4.16841785e+00,\n",
       "           1.17725288e+00,  4.82938411e+00],\n",
       "         [ 1.69495135e+00,  2.59636532e-02, -5.65249981e-03,\n",
       "           1.14664202e+00,  7.53673563e-01],\n",
       "         [ 2.05253686e+00, -1.70936609e-02,  3.93736308e+00,\n",
       "           1.89310200e+00,  2.11457144e+00],\n",
       "         [ 4.43396421e+00,  2.64645110e+00,  5.43650019e+00,\n",
       "           4.83245633e+00,  5.89679166e+00]]])}"
      ]
     },
     "execution_count": 40,
     "metadata": {},
     "output_type": "execute_result"
    }
   ],
   "source": [
    "multi_var_mediation(5)"
   ]
  },
  {
   "cell_type": "code",
   "execution_count": 15,
   "metadata": {},
   "outputs": [
    {
     "data": {
      "text/plain": [
       "array([[1.3436178 , 0.92492296, 0.62625861, 1.40983374, 1.21372262],\n",
       "       [0.92492296, 1.38837076, 1.12801212, 0.93485303, 1.19755506],\n",
       "       [0.62625861, 1.12801212, 1.44448002, 0.71979802, 1.30921151],\n",
       "       [1.40983374, 0.93485303, 0.71979802, 1.66032557, 1.60971923],\n",
       "       [1.21372262, 1.19755506, 1.30921151, 1.60971923, 2.07256559]])"
      ]
     },
     "execution_count": 15,
     "metadata": {},
     "output_type": "execute_result"
    }
   ],
   "source": [
    "a.T.dot(a)"
   ]
  },
  {
   "cell_type": "code",
   "execution_count": 27,
   "metadata": {},
   "outputs": [
    {
     "data": {
      "text/plain": [
       "True"
      ]
     },
     "execution_count": 27,
     "metadata": {},
     "output_type": "execute_result"
    }
   ],
   "source": [
    "a=np.matrix([\n",
    "    [0,0,1,1],\n",
    "    [0,0,0,0],\n",
    "    [1,0,0,0],\n",
    "    [1,0,0,0]\n",
    "])\n",
    "e,_=eigh(a.T.dot(a))\n",
    "all(e>=0)"
   ]
  },
  {
   "cell_type": "code",
   "execution_count": 28,
   "metadata": {},
   "outputs": [],
   "source": [
    "c=a.T.dot(a)\n",
    "m=np.zeros(4)"
   ]
  },
  {
   "cell_type": "code",
   "execution_count": 29,
   "metadata": {},
   "outputs": [
    {
     "data": {
      "text/plain": [
       "matrix([[2, 0, 0, 0],\n",
       "        [0, 0, 0, 0],\n",
       "        [0, 0, 1, 1],\n",
       "        [0, 0, 1, 1]])"
      ]
     },
     "execution_count": 29,
     "metadata": {},
     "output_type": "execute_result"
    }
   ],
   "source": [
    "c"
   ]
  },
  {
   "cell_type": "code",
   "execution_count": 35,
   "metadata": {},
   "outputs": [
    {
     "data": {
      "text/plain": [
       "array([-0.71914357,  0.        ,  1.11094496,  1.11094496])"
      ]
     },
     "execution_count": 35,
     "metadata": {},
     "output_type": "execute_result"
    }
   ],
   "source": [
    "multivariate_normal(m,c)"
   ]
  },
  {
   "cell_type": "code",
   "execution_count": 20,
   "metadata": {},
   "outputs": [
    {
     "data": {
      "text/plain": [
       "True"
      ]
     },
     "execution_count": 20,
     "metadata": {},
     "output_type": "execute_result"
    }
   ],
   "source": [
    "E,V=eigh(a.T.dot(a))\n",
    "all(E>=0)"
   ]
  },
  {
   "cell_type": "code",
   "execution_count": 22,
   "metadata": {},
   "outputs": [],
   "source": [
    "c=a.T.dot(a)\n",
    "m=np.zeros(5)"
   ]
  },
  {
   "cell_type": "code",
   "execution_count": 23,
   "metadata": {},
   "outputs": [
    {
     "data": {
      "text/plain": [
       "array([ 0.82683249,  0.87217464, -0.37500823,  1.07730663,  0.7755822 ])"
      ]
     },
     "execution_count": 23,
     "metadata": {},
     "output_type": "execute_result"
    }
   ],
   "source": [
    "multivariate_normal(m,c)"
   ]
  },
  {
   "cell_type": "code",
   "execution_count": null,
   "metadata": {},
   "outputs": [],
   "source": []
  },
  {
   "cell_type": "code",
   "execution_count": null,
   "metadata": {},
   "outputs": [],
   "source": []
  },
  {
   "cell_type": "code",
   "execution_count": 273,
   "metadata": {},
   "outputs": [],
   "source": [
    "var={'n':4, 'p_otu':8, 'p_metabolite':4, 'mediations':1}"
   ]
  },
  {
   "cell_type": "markdown",
   "metadata": {},
   "source": [
    "<hr>"
   ]
  },
  {
   "cell_type": "code",
   "execution_count": 310,
   "metadata": {},
   "outputs": [],
   "source": [
    "from linReg import *"
   ]
  },
  {
   "cell_type": "code",
   "execution_count": 278,
   "metadata": {},
   "outputs": [],
   "source": [
    "output=simulate_simple_mediation(**var)"
   ]
  },
  {
   "cell_type": "code",
   "execution_count": 280,
   "metadata": {},
   "outputs": [],
   "source": [
    "X,y=output[\"OTU\"][:-1,:],output[\"OTU\"][-1,:]"
   ]
  },
  {
   "cell_type": "code",
   "execution_count": 342,
   "metadata": {},
   "outputs": [
    {
     "data": {
      "text/plain": [
       "matrix([[ 0.25942256,  0.37381314,  0.58759964,  0.2728219 ],\n",
       "        [ 0.3708528 ,  0.19705428,  0.45985588,  0.0446123 ],\n",
       "        [ 0.79979588,  0.07695645,  0.51883515,  0.3068101 ],\n",
       "        [ 0.57754295,  0.95943334,  0.64557024,  0.03536244],\n",
       "        [ 0.43040244,  0.51001685,  0.53617749,  0.68139251],\n",
       "        [ 0.2775961 ,  0.12886057,  0.39267568,  0.95640572],\n",
       "        [ 0.75677864,  0.63606106,  0.24002027,  0.16053882],\n",
       "        [-5.62848601,  0.26479425, -0.9155853 , -1.81689762]])"
      ]
     },
     "execution_count": 342,
     "metadata": {},
     "output_type": "execute_result"
    }
   ],
   "source": [
    "output[\"OTU\"]"
   ]
  },
  {
   "cell_type": "markdown",
   "metadata": {},
   "source": [
    "# 1. $$Y=\\beta_{32}\\cdot\\beta_{21}X+\\epsilon$$\n",
    "$X\\in\\mathbb{R}^{(\\text{p_otu}-1)\\times n}$\n",
    "\n",
    "$Y\\in\\mathbb{R}^{1\\times n}$\n",
    "\n",
    "$\\Rightarrow\\enspace(\\beta_{32}\\cdot\\beta_{21})\\in\\mathbb{R}^{\\text{p_otu}-1)\\times 1}$"
   ]
  },
  {
   "cell_type": "code",
   "execution_count": 356,
   "metadata": {},
   "outputs": [
    {
     "data": {
      "text/plain": [
       "((7, 4), (1, 4))"
      ]
     },
     "execution_count": 356,
     "metadata": {},
     "output_type": "execute_result"
    }
   ],
   "source": [
    "X.shape,y.shape"
   ]
  },
  {
   "cell_type": "code",
   "execution_count": 357,
   "metadata": {},
   "outputs": [],
   "source": [
    "coef, vcov, sigma,df=linmodEst(X,y)"
   ]
  },
  {
   "cell_type": "code",
   "execution_count": 358,
   "metadata": {},
   "outputs": [
    {
     "data": {
      "text/plain": [
       "1.0864928258298578e-14"
      ]
     },
     "metadata": {},
     "output_type": "display_data"
    },
    {
     "data": {
      "text/plain": [
       "matrix([[ 2.60476843, -0.22636003, -5.56602033,  2.30603029,  0.60033872,\n",
       "         -0.65493813, -4.19806485]])"
      ]
     },
     "metadata": {},
     "output_type": "display_data"
    }
   ],
   "source": [
    "display(sigma,coef)"
   ]
  },
  {
   "cell_type": "markdown",
   "metadata": {},
   "source": [
    "## step 1: $$Y=\\beta_{10}+\\beta_{11}X+\\epsilon_{1}$$"
   ]
  },
  {
   "cell_type": "code",
   "execution_count": 359,
   "metadata": {},
   "outputs": [
    {
     "data": {
      "text/plain": [
       "(8, 4)"
      ]
     },
     "execution_count": 359,
     "metadata": {},
     "output_type": "execute_result"
    }
   ],
   "source": [
    "# add dummy variable for beta10\n",
    "X_1=np.vstack([X,np.ones(X.shape[1])])\n",
    "X_1.shape"
   ]
  },
  {
   "cell_type": "code",
   "execution_count": 360,
   "metadata": {},
   "outputs": [],
   "source": [
    "coef, vcov, sigma,df=linmodEst(X_1,y)"
   ]
  },
  {
   "cell_type": "code",
   "execution_count": 361,
   "metadata": {},
   "outputs": [
    {
     "data": {
      "text/plain": [
       "6.26391136359801e-15"
      ]
     },
     "metadata": {},
     "output_type": "display_data"
    },
    {
     "data": {
      "text/plain": [
       "matrix([[ 2.69072387, -0.21170264, -5.52212721,  2.4480739 ,  0.80087149,\n",
       "         -0.45825167, -4.06127033, -0.3893087 ]])"
      ]
     },
     "metadata": {},
     "output_type": "display_data"
    }
   ],
   "source": [
    "display(sigma,coef)"
   ]
  },
  {
   "cell_type": "code",
   "execution_count": 385,
   "metadata": {},
   "outputs": [],
   "source": [
    "beta11,beta10=coef[:,:-1],coef[:,-1]"
   ]
  },
  {
   "cell_type": "code",
   "execution_count": 387,
   "metadata": {},
   "outputs": [
    {
     "data": {
      "text/plain": [
       "matrix([[-5.62848601,  0.26479425, -0.9155853 , -1.81689762]])"
      ]
     },
     "execution_count": 387,
     "metadata": {},
     "output_type": "execute_result"
    }
   ],
   "source": [
    "beta11.dot(X)+beta10"
   ]
  },
  {
   "cell_type": "markdown",
   "metadata": {},
   "source": [
    "## step 2: $$Me=\\beta_{20}+\\beta_{21}X+\\epsilon_{2}$$"
   ]
  },
  {
   "cell_type": "code",
   "execution_count": 399,
   "metadata": {},
   "outputs": [],
   "source": [
    "coef2, vcov2, sigma2,df2=linmodEst(X_1,output[\"Metabolite\"])"
   ]
  },
  {
   "cell_type": "code",
   "execution_count": 400,
   "metadata": {},
   "outputs": [
    {
     "data": {
      "text/plain": [
       "3.8520299406335125e-15"
      ]
     },
     "metadata": {},
     "output_type": "display_data"
    }
   ],
   "source": [
    "display(sigma2)"
   ]
  },
  {
   "cell_type": "code",
   "execution_count": 401,
   "metadata": {},
   "outputs": [],
   "source": [
    "beta21,beta20=coef2[:,:-1],coef2[:,-1]"
   ]
  },
  {
   "cell_type": "code",
   "execution_count": 402,
   "metadata": {},
   "outputs": [
    {
     "data": {
      "text/plain": [
       "matrix([[0.18713089, 0.90398395, 0.54380595, 0.45691142],\n",
       "        [0.88204141, 0.45860396, 0.72416764, 0.39902532],\n",
       "        [0.90404439, 0.69002502, 0.69962205, 0.3277204 ],\n",
       "        [3.81747398, 0.21210629, 0.34409085, 1.45796901]])"
      ]
     },
     "execution_count": 402,
     "metadata": {},
     "output_type": "execute_result"
    }
   ],
   "source": [
    "beta21.dot(X)+beta20"
   ]
  },
  {
   "cell_type": "markdown",
   "metadata": {},
   "source": [
    "## step 3: $$Y=\\beta_{30}+\\beta_{31}X+\\beta_{32}Me+\\epsilon_{3}$$"
   ]
  },
  {
   "cell_type": "code",
   "execution_count": 404,
   "metadata": {},
   "outputs": [],
   "source": [
    "XMe1=np.vstack([X,output[\"Metabolite\"],np.ones(X.shape[1])])"
   ]
  },
  {
   "cell_type": "code",
   "execution_count": 407,
   "metadata": {},
   "outputs": [],
   "source": [
    "coef3, vcov3, sigma3,df3=linmodEst(XMe1,y)"
   ]
  },
  {
   "cell_type": "code",
   "execution_count": 447,
   "metadata": {},
   "outputs": [
    {
     "data": {
      "text/plain": [
       "1.6059904674447437e-15"
      ]
     },
     "metadata": {},
     "output_type": "display_data"
    },
    {
     "data": {
      "text/plain": [
       "matrix([[-0.2088658 , -0.45007648, -0.75204656,  0.20705928,  0.14666732,\n",
       "          0.03515756,  0.24913621,  0.65152058, -0.49914841, -0.21739158,\n",
       "         -1.25228999,  0.10854822]])"
      ]
     },
     "metadata": {},
     "output_type": "display_data"
    }
   ],
   "source": [
    "display(sigma3,coef3)"
   ]
  },
  {
   "cell_type": "code",
   "execution_count": 455,
   "metadata": {},
   "outputs": [],
   "source": [
    "beta30,beta31,beta32=coef3[:,-1],coef3[:,:X.shape[0]],coef3[:,X.shape[0]:-1]"
   ]
  },
  {
   "cell_type": "code",
   "execution_count": 456,
   "metadata": {},
   "outputs": [
    {
     "data": {
      "text/plain": [
       "matrix([[0.10854822]])"
      ]
     },
     "metadata": {},
     "output_type": "display_data"
    },
    {
     "data": {
      "text/plain": [
       "matrix([[-0.2088658 , -0.45007648, -0.75204656,  0.20705928,  0.14666732,\n",
       "          0.03515756,  0.24913621]])"
      ]
     },
     "metadata": {},
     "output_type": "display_data"
    },
    {
     "data": {
      "text/plain": [
       "matrix([[ 0.65152058, -0.49914841, -0.21739158, -1.25228999]])"
      ]
     },
     "metadata": {},
     "output_type": "display_data"
    }
   ],
   "source": [
    "display(beta30,beta31,beta32)"
   ]
  },
  {
   "cell_type": "code",
   "execution_count": 458,
   "metadata": {},
   "outputs": [
    {
     "data": {
      "text/plain": [
       "matrix([[-5.62848601,  0.26479425, -0.9155853 , -1.81689762]])"
      ]
     },
     "execution_count": 458,
     "metadata": {},
     "output_type": "execute_result"
    }
   ],
   "source": [
    "beta30+beta31.dot(X)+beta32.dot(output[\"Metabolite\"])"
   ]
  },
  {
   "cell_type": "markdown",
   "metadata": {},
   "source": [
    "<hr>"
   ]
  },
  {
   "cell_type": "code",
   "execution_count": 460,
   "metadata": {},
   "outputs": [
    {
     "data": {
      "text/plain": [
       "matrix([[ True, False,  True,  True,  True,  True,  True]])"
      ]
     },
     "execution_count": 460,
     "metadata": {},
     "output_type": "execute_result"
    }
   ],
   "source": [
    "np.abs(beta31)<np.abs(beta11)"
   ]
  },
  {
   "cell_type": "code",
   "execution_count": null,
   "metadata": {},
   "outputs": [],
   "source": []
  },
  {
   "cell_type": "code",
   "execution_count": null,
   "metadata": {},
   "outputs": [],
   "source": []
  },
  {
   "cell_type": "markdown",
   "metadata": {},
   "source": [
    "<hr>"
   ]
  },
  {
   "cell_type": "code",
   "execution_count": 337,
   "metadata": {},
   "outputs": [
    {
     "data": {
      "text/plain": [
       "((7, 4), array([[1.],\n",
       "        [1.],\n",
       "        [1.],\n",
       "        [1.]]))"
      ]
     },
     "execution_count": 337,
     "metadata": {},
     "output_type": "execute_result"
    }
   ],
   "source": [
    "X.shape,np.ones(X.shape[1]).reshape(-1,1)"
   ]
  },
  {
   "cell_type": "code",
   "execution_count": 338,
   "metadata": {},
   "outputs": [],
   "source": [
    "X_1=np.hstack([X,np.ones(X.shape[0]).reshape(-1,1)])"
   ]
  },
  {
   "cell_type": "code",
   "execution_count": 340,
   "metadata": {},
   "outputs": [],
   "source": [
    "q_1,r_1=qr(X_1)"
   ]
  },
  {
   "cell_type": "code",
   "execution_count": 341,
   "metadata": {},
   "outputs": [
    {
     "ename": "ValueError",
     "evalue": "shapes (7,5) and (4,1) not aligned: 5 (dim 1) != 4 (dim 0)",
     "output_type": "error",
     "traceback": [
      "\u001b[0;31m---------------------------------------------------------------------------\u001b[0m",
      "\u001b[0;31mValueError\u001b[0m                                Traceback (most recent call last)",
      "\u001b[0;32m<ipython-input-341-8eb75731481c>\u001b[0m in \u001b[0;36m<module>\u001b[0;34m\u001b[0m\n\u001b[0;32m----> 1\u001b[0;31m \u001b[0mcoef\u001b[0m\u001b[0;34m,\u001b[0m \u001b[0mvcov\u001b[0m\u001b[0;34m,\u001b[0m \u001b[0msigma\u001b[0m\u001b[0;34m,\u001b[0m\u001b[0mdf\u001b[0m\u001b[0;34m=\u001b[0m\u001b[0mlinmodEst\u001b[0m\u001b[0;34m(\u001b[0m\u001b[0mX_1\u001b[0m\u001b[0;34m,\u001b[0m\u001b[0my\u001b[0m\u001b[0;34m)\u001b[0m\u001b[0;34m\u001b[0m\u001b[0;34m\u001b[0m\u001b[0m\n\u001b[0m",
      "\u001b[0;32m~/Documents/SP20/antibiotics-project/linReg.py\u001b[0m in \u001b[0;36mlinmodEst\u001b[0;34m(x, y)\u001b[0m\n\u001b[1;32m      8\u001b[0m     \u001b[0mq\u001b[0m\u001b[0;34m,\u001b[0m\u001b[0mr\u001b[0m\u001b[0;34m=\u001b[0m\u001b[0mqr\u001b[0m\u001b[0;34m(\u001b[0m\u001b[0mx\u001b[0m\u001b[0;34m)\u001b[0m\u001b[0;34m\u001b[0m\u001b[0;34m\u001b[0m\u001b[0m\n\u001b[1;32m      9\u001b[0m     \u001b[0mxTx_1\u001b[0m\u001b[0;34m=\u001b[0m\u001b[0minv\u001b[0m\u001b[0;34m(\u001b[0m\u001b[0mr\u001b[0m\u001b[0;34m.\u001b[0m\u001b[0mT\u001b[0m\u001b[0;34m.\u001b[0m\u001b[0mdot\u001b[0m\u001b[0;34m(\u001b[0m\u001b[0mr\u001b[0m\u001b[0;34m)\u001b[0m\u001b[0;34m)\u001b[0m\u001b[0;34m\u001b[0m\u001b[0;34m\u001b[0m\u001b[0m\n\u001b[0;32m---> 10\u001b[0;31m     \u001b[0mcoef\u001b[0m\u001b[0;34m=\u001b[0m\u001b[0mxTx_1\u001b[0m\u001b[0;34m.\u001b[0m\u001b[0mdot\u001b[0m\u001b[0;34m(\u001b[0m\u001b[0mx\u001b[0m\u001b[0;34m.\u001b[0m\u001b[0mT\u001b[0m\u001b[0;34m)\u001b[0m\u001b[0;34m.\u001b[0m\u001b[0mT\u001b[0m\u001b[0;34m.\u001b[0m\u001b[0mdot\u001b[0m\u001b[0;34m(\u001b[0m\u001b[0my\u001b[0m\u001b[0;34m.\u001b[0m\u001b[0mT\u001b[0m\u001b[0;34m)\u001b[0m\u001b[0;34m.\u001b[0m\u001b[0mT\u001b[0m\u001b[0;34m\u001b[0m\u001b[0;34m\u001b[0m\u001b[0m\n\u001b[0m\u001b[1;32m     11\u001b[0m \u001b[0;34m\u001b[0m\u001b[0m\n\u001b[1;32m     12\u001b[0m     \u001b[0;31m# degrees of freedom & std of residuals\u001b[0m\u001b[0;34m\u001b[0m\u001b[0;34m\u001b[0m\u001b[0;34m\u001b[0m\u001b[0m\n",
      "\u001b[0;31mValueError\u001b[0m: shapes (7,5) and (4,1) not aligned: 5 (dim 1) != 4 (dim 0)"
     ]
    }
   ],
   "source": [
    "coef, vcov, sigma,df=linmodEst(X_1,y)"
   ]
  },
  {
   "cell_type": "code",
   "execution_count": 321,
   "metadata": {},
   "outputs": [
    {
     "data": {
      "text/plain": [
       "matrix([[ 2.60476843, -0.22636003, -5.56602033,  2.30603029,  0.60033872,\n",
       "         -0.65493813, -4.19806485]])"
      ]
     },
     "execution_count": 321,
     "metadata": {},
     "output_type": "execute_result"
    }
   ],
   "source": [
    "coef"
   ]
  },
  {
   "cell_type": "code",
   "execution_count": 322,
   "metadata": {},
   "outputs": [
    {
     "data": {
      "text/plain": [
       "1.0864928258298578e-14"
      ]
     },
     "execution_count": 322,
     "metadata": {},
     "output_type": "execute_result"
    }
   ],
   "source": [
    "sigma"
   ]
  },
  {
   "cell_type": "code",
   "execution_count": 323,
   "metadata": {},
   "outputs": [
    {
     "data": {
      "text/plain": [
       "matrix([[ 2.71162588e-28, -8.02710526e-29, -1.82177112e-28,\n",
       "         -8.00712217e-30],\n",
       "        [-8.02710526e-29,  2.44987828e-28, -1.66067200e-28,\n",
       "          5.77595156e-29],\n",
       "        [-1.82177112e-28, -1.66067200e-28,  4.70268126e-28,\n",
       "         -1.43238769e-28],\n",
       "        [-8.00712217e-30,  5.77595156e-29, -1.43238769e-28,\n",
       "          1.56749127e-28]])"
      ]
     },
     "execution_count": 323,
     "metadata": {},
     "output_type": "execute_result"
    }
   ],
   "source": [
    "vcov"
   ]
  },
  {
   "cell_type": "code",
   "execution_count": 324,
   "metadata": {},
   "outputs": [
    {
     "data": {
      "text/plain": [
       "3"
      ]
     },
     "execution_count": 324,
     "metadata": {},
     "output_type": "execute_result"
    }
   ],
   "source": [
    "df"
   ]
  },
  {
   "cell_type": "code",
   "execution_count": 328,
   "metadata": {},
   "outputs": [
    {
     "name": "stderr",
     "output_type": "stream",
     "text": [
      "/Users/indigo410/anaconda3/envs/DSC/lib/python3.7/site-packages/ipykernel_launcher.py:1: FutureWarning: `rcond` parameter will change to the default of machine precision times ``max(M, N)`` where M and N are the input matrix dimensions.\n",
      "To use the future default and silence this warning we advise to pass `rcond=None`, to keep using the old, explicitly pass `rcond=-1`.\n",
      "  \"\"\"Entry point for launching an IPython kernel.\n"
     ]
    },
    {
     "data": {
      "text/plain": [
       "(matrix([[ 2.60476843],\n",
       "         [-0.22636003],\n",
       "         [-5.56602033],\n",
       "         [ 2.30603029],\n",
       "         [ 0.60033872],\n",
       "         [-0.65493813],\n",
       "         [-4.19806485]]),\n",
       " matrix([], shape=(1, 0), dtype=float64),\n",
       " 4,\n",
       " array([2.37212817, 0.9858072 , 0.58130101, 0.42570712]))"
      ]
     },
     "execution_count": 328,
     "metadata": {},
     "output_type": "execute_result"
    }
   ],
   "source": [
    "lstsq(X.T,y.T)"
   ]
  },
  {
   "cell_type": "code",
   "execution_count": null,
   "metadata": {},
   "outputs": [],
   "source": []
  },
  {
   "cell_type": "code",
   "execution_count": null,
   "metadata": {},
   "outputs": [],
   "source": []
  },
  {
   "cell_type": "code",
   "execution_count": null,
   "metadata": {},
   "outputs": [],
   "source": []
  },
  {
   "cell_type": "markdown",
   "metadata": {},
   "source": [
    "<hr>\n",
    "Apr 14"
   ]
  },
  {
   "cell_type": "code",
   "execution_count": 245,
   "metadata": {},
   "outputs": [],
   "source": []
  },
  {
   "cell_type": "code",
   "execution_count": 272,
   "metadata": {},
   "outputs": [],
   "source": [
    "output=simulate_simple_mediation(**var)"
   ]
  },
  {
   "cell_type": "code",
   "execution_count": 274,
   "metadata": {},
   "outputs": [
    {
     "data": {
      "text/plain": [
       "{'OTU': matrix([[ 0.49739137,  0.63947252,  0.36858461,  0.13690027],\n",
       "         [ 0.82211773,  0.18984791,  0.51131898,  0.22431703],\n",
       "         [ 0.09784448,  0.86219152,  0.97291949,  0.96083466],\n",
       "         [ 0.9065555 ,  0.77404733,  0.33314515,  0.08110139],\n",
       "         [ 0.40724117,  0.23223414,  0.13248763,  0.05342718],\n",
       "         [ 0.72559436,  0.01142746,  0.77058075,  0.14694665],\n",
       "         [ 0.26211815,  0.45614057,  0.68328134,  0.69562545],\n",
       "         [ 0.5756451 ,  0.51188637, -2.13990257, -0.52844524]]),\n",
       " 'Metabolite': matrix([[ 0.07952208,  0.08960303,  0.67204781,  0.24536721],\n",
       "         [ 0.42053947,  0.55736879,  0.86055117,  0.72704426],\n",
       "         [ 0.27032791,  0.1314828 ,  0.05537432,  0.30159863],\n",
       "         [-0.28912796, -0.55414319,  1.88762755,  0.81546292]]),\n",
       " 'OtuAnn': {'Species': ['OTU1',\n",
       "   'OTU2',\n",
       "   'OTU3',\n",
       "   'OTU4',\n",
       "   'OTU5',\n",
       "   'OTU6',\n",
       "   'OTU7',\n",
       "   'OTU8']},\n",
       " 'MetAnn': {'Species': ['M1', 'M2', 'M3 Mediator', 'M4 Mediator']}}"
      ]
     },
     "metadata": {},
     "output_type": "display_data"
    }
   ],
   "source": [
    "display(output)"
   ]
  },
  {
   "cell_type": "code",
   "execution_count": 276,
   "metadata": {},
   "outputs": [
    {
     "data": {
      "text/plain": [
       "(8, 4)"
      ]
     },
     "execution_count": 276,
     "metadata": {},
     "output_type": "execute_result"
    }
   ],
   "source": [
    "output['OTU'].shape"
   ]
  },
  {
   "cell_type": "code",
   "execution_count": 277,
   "metadata": {},
   "outputs": [
    {
     "data": {
      "text/plain": [
       "matrix([[ 0.49739137,  0.63947252,  0.36858461,  0.13690027],\n",
       "        [ 0.82211773,  0.18984791,  0.51131898,  0.22431703],\n",
       "        [ 0.09784448,  0.86219152,  0.97291949,  0.96083466],\n",
       "        [ 0.9065555 ,  0.77404733,  0.33314515,  0.08110139],\n",
       "        [ 0.40724117,  0.23223414,  0.13248763,  0.05342718],\n",
       "        [ 0.72559436,  0.01142746,  0.77058075,  0.14694665],\n",
       "        [ 0.26211815,  0.45614057,  0.68328134,  0.69562545],\n",
       "        [ 0.5756451 ,  0.51188637, -2.13990257, -0.52844524]])"
      ]
     },
     "execution_count": 277,
     "metadata": {},
     "output_type": "execute_result"
    }
   ],
   "source": [
    "output['OTU']"
   ]
  },
  {
   "cell_type": "code",
   "execution_count": null,
   "metadata": {},
   "outputs": [],
   "source": []
  },
  {
   "cell_type": "code",
   "execution_count": null,
   "metadata": {},
   "outputs": [],
   "source": []
  },
  {
   "cell_type": "code",
   "execution_count": null,
   "metadata": {},
   "outputs": [],
   "source": []
  },
  {
   "cell_type": "markdown",
   "metadata": {},
   "source": [
    "<hr>"
   ]
  },
  {
   "cell_type": "code",
   "execution_count": null,
   "metadata": {},
   "outputs": [],
   "source": []
  },
  {
   "cell_type": "code",
   "execution_count": 248,
   "metadata": {},
   "outputs": [
    {
     "data": {
      "text/plain": [
       "(7, 5)"
      ]
     },
     "execution_count": 248,
     "metadata": {},
     "output_type": "execute_result"
    }
   ],
   "source": [
    "X.shape"
   ]
  },
  {
   "cell_type": "code",
   "execution_count": 249,
   "metadata": {},
   "outputs": [],
   "source": [
    "q,r=np.linalg.qr(X)"
   ]
  },
  {
   "cell_type": "code",
   "execution_count": 255,
   "metadata": {},
   "outputs": [
    {
     "data": {
      "text/plain": [
       "((7, 5), (1, 5))"
      ]
     },
     "execution_count": 255,
     "metadata": {},
     "output_type": "execute_result"
    }
   ],
   "source": [
    "q.shape,y.shape"
   ]
  },
  {
   "cell_type": "code",
   "execution_count": 270,
   "metadata": {},
   "outputs": [
    {
     "data": {
      "text/plain": [
       "(5, 7)"
      ]
     },
     "execution_count": 270,
     "metadata": {},
     "output_type": "execute_result"
    }
   ],
   "source": [
    "inv(X.T.dot(X)).dot(X.T)"
   ]
  },
  {
   "cell_type": "code",
   "execution_count": null,
   "metadata": {},
   "outputs": [],
   "source": []
  },
  {
   "cell_type": "code",
   "execution_count": null,
   "metadata": {},
   "outputs": [],
   "source": []
  },
  {
   "cell_type": "code",
   "execution_count": null,
   "metadata": {},
   "outputs": [],
   "source": []
  },
  {
   "cell_type": "code",
   "execution_count": null,
   "metadata": {},
   "outputs": [],
   "source": []
  },
  {
   "cell_type": "code",
   "execution_count": 271,
   "metadata": {},
   "outputs": [
    {
     "data": {
      "text/plain": [
       "((8, 4), (4, 4))"
      ]
     },
     "execution_count": 271,
     "metadata": {},
     "output_type": "execute_result"
    }
   ],
   "source": [
    "output[\"OTU\"].shape,output[\"Metabolite\"].shape"
   ]
  },
  {
   "cell_type": "markdown",
   "metadata": {},
   "source": [
    "UPDATE: \n",
    "- chagned all array to matrix for easier computation\n",
    "- //changed dimension of `Metabolite`: tranposed."
   ]
  },
  {
   "cell_type": "code",
   "execution_count": 197,
   "metadata": {},
   "outputs": [],
   "source": [
    "var={'n':4, 'p_otu':8, 'p_metabolite':4, 'mediations':1}"
   ]
  },
  {
   "cell_type": "code",
   "execution_count": 205,
   "metadata": {},
   "outputs": [
    {
     "data": {
      "text/plain": [
       "{'OTU': matrix([[ 0.27762871,  0.58678435,  0.86385561,  0.11753186],\n",
       "         [ 0.51737911,  0.13206811,  0.71685968,  0.3960597 ],\n",
       "         [ 0.56542131,  0.18327984,  0.14484776,  0.48805628],\n",
       "         [ 0.35561274,  0.94043195,  0.76532525,  0.74866362],\n",
       "         [ 0.90371974,  0.08342244,  0.55219247,  0.58447607],\n",
       "         [ 0.96193638,  0.29214753,  0.24082878,  0.10029394],\n",
       "         [ 0.23170163,  0.94931882,  0.9413777 ,  0.79920259],\n",
       "         [-3.0048195 , -3.73383348, -4.02064547, -1.31882738]]),\n",
       " 'Metabolite': matrix([[0.01642963, 0.92952932, 0.66991655, 0.78515291],\n",
       "         [0.28173011, 0.58641017, 0.06395527, 0.4856276 ],\n",
       "         [0.97749514, 0.87650525, 0.33815895, 0.96157015],\n",
       "         [1.37358216, 2.21585586, 2.66908337, 1.13198608]]),\n",
       " 'OtuAnn': {'Species': ['OTU1',\n",
       "   'OTU2',\n",
       "   'OTU3',\n",
       "   'OTU4',\n",
       "   'OTU5',\n",
       "   'OTU6',\n",
       "   'OTU7',\n",
       "   'OTU8']},\n",
       " 'MetAnn': {'Species': ['M1', 'M2', 'M3 Mediator', 'M4 Mediator']}}"
      ]
     },
     "execution_count": 205,
     "metadata": {},
     "output_type": "execute_result"
    }
   ],
   "source": [
    "# np.random.seed(0)\n",
    "output=simulate_simple_mediation(**var)\n",
    "output"
   ]
  },
  {
   "cell_type": "code",
   "execution_count": 202,
   "metadata": {},
   "outputs": [
    {
     "data": {
      "text/plain": [
       "array([[ 0.61801543,  0.4287687 ,  0.13547406,  0.29828233],\n",
       "       [-5.59968501, -1.59701334, -3.475764  , -1.45145757]])"
      ]
     },
     "execution_count": 202,
     "metadata": {},
     "output_type": "execute_result"
    }
   ],
   "source": [
    "simple_mediation_direct(4)[\"OTU\"]"
   ]
  },
  {
   "cell_type": "markdown",
   "metadata": {},
   "source": [
    "<hr>"
   ]
  },
  {
   "cell_type": "code",
   "execution_count": 206,
   "metadata": {},
   "outputs": [
    {
     "data": {
      "text/plain": [
       "matrix([[ 0.27762871,  0.58678435,  0.86385561,  0.11753186],\n",
       "        [ 0.51737911,  0.13206811,  0.71685968,  0.3960597 ],\n",
       "        [ 0.56542131,  0.18327984,  0.14484776,  0.48805628],\n",
       "        [ 0.35561274,  0.94043195,  0.76532525,  0.74866362],\n",
       "        [ 0.90371974,  0.08342244,  0.55219247,  0.58447607],\n",
       "        [ 0.96193638,  0.29214753,  0.24082878,  0.10029394],\n",
       "        [ 0.23170163,  0.94931882,  0.9413777 ,  0.79920259],\n",
       "        [-3.0048195 , -3.73383348, -4.02064547, -1.31882738]])"
      ]
     },
     "execution_count": 206,
     "metadata": {},
     "output_type": "execute_result"
    }
   ],
   "source": [
    "output[\"OTU\"]"
   ]
  },
  {
   "cell_type": "code",
   "execution_count": 192,
   "metadata": {},
   "outputs": [
    {
     "data": {
      "text/plain": [
       "(8, 4)"
      ]
     },
     "execution_count": 192,
     "metadata": {},
     "output_type": "execute_result"
    }
   ],
   "source": [
    "output[\"OTU\"].shape"
   ]
  },
  {
   "cell_type": "code",
   "execution_count": 207,
   "metadata": {},
   "outputs": [
    {
     "data": {
      "text/plain": [
       "['OTU1', 'OTU2', 'OTU3', 'OTU4', 'OTU5', 'OTU6', 'OTU7', 'OTU8']"
      ]
     },
     "execution_count": 207,
     "metadata": {},
     "output_type": "execute_result"
    }
   ],
   "source": [
    "output['OtuAnn']['Species']"
   ]
  },
  {
   "cell_type": "code",
   "execution_count": 211,
   "metadata": {},
   "outputs": [],
   "source": [
    "i,j=0,1"
   ]
  },
  {
   "cell_type": "code",
   "execution_count": 215,
   "metadata": {},
   "outputs": [],
   "source": [
    "tij=np.var(np.log(output[\"OTU\"][i]/output[\"OTU\"][j]))"
   ]
  },
  {
   "cell_type": "code",
   "execution_count": 216,
   "metadata": {},
   "outputs": [
    {
     "data": {
      "text/plain": [
       "1.0289741042028886"
      ]
     },
     "execution_count": 216,
     "metadata": {},
     "output_type": "execute_result"
    }
   ],
   "source": [
    "tij"
   ]
  },
  {
   "cell_type": "code",
   "execution_count": 217,
   "metadata": {},
   "outputs": [],
   "source": [
    "rou=np.zeros(output[\"OTU\"].shape[0])"
   ]
  },
  {
   "cell_type": "code",
   "execution_count": 218,
   "metadata": {},
   "outputs": [],
   "source": [
    "from itertools import combinations"
   ]
  },
  {
   "cell_type": "code",
   "execution_count": 233,
   "metadata": {},
   "outputs": [
    {
     "data": {
      "text/plain": [
       "matrix([[0.        , 1.0289741 , 1.72749655, 0.55662716, 1.98354854,\n",
       "         0.87223993, 0.65499813],\n",
       "        [0.        , 0.        , 0.61980856, 0.77310866, 0.18221263,\n",
       "         0.95387017, 0.98853462],\n",
       "        [0.        , 0.        , 0.        , 0.79495121, 0.57563544,\n",
       "         0.81512945, 1.20443316],\n",
       "        [0.        , 0.        , 0.        , 0.        , 1.46027722,\n",
       "         1.23628376, 0.05634204],\n",
       "        [0.        , 0.        , 0.        , 0.        , 0.        ,\n",
       "         1.24067122, 1.80748554],\n",
       "        [0.        , 0.        , 0.        , 0.        , 0.        ,\n",
       "         0.        , 1.75784199],\n",
       "        [0.        , 0.        , 0.        , 0.        , 0.        ,\n",
       "         0.        , 0.        ]])"
      ]
     },
     "metadata": {},
     "output_type": "display_data"
    }
   ],
   "source": [
    "c=combinations(np.arange(output[\"OTU\"].shape[0]-1),2)\n",
    "t=np.matrix(np.zeros((output[\"OTU\"].shape[0]-1,output[\"OTU\"].shape[0]-1)))\n",
    "for i,j in c:\n",
    "    t[i,j]=np.var(np.log(output[\"OTU\"][i])-np.log(output[\"OTU\"][j]))\n",
    "    \n",
    "display(t)"
   ]
  },
  {
   "cell_type": "code",
   "execution_count": 234,
   "metadata": {},
   "outputs": [
    {
     "data": {
      "text/plain": [
       "array([[0.   , 1.029, 1.727, 0.557, 1.984, 0.872, 0.655],\n",
       "       [0.   , 0.   , 0.62 , 0.773, 0.182, 0.954, 0.989],\n",
       "       [0.   , 0.   , 0.   , 0.795, 0.576, 0.815, 1.204],\n",
       "       [0.   , 0.   , 0.   , 0.   , 1.46 , 1.236, 0.056],\n",
       "       [0.   , 0.   , 0.   , 0.   , 0.   , 1.241, 1.807],\n",
       "       [0.   , 0.   , 0.   , 0.   , 0.   , 0.   , 1.758],\n",
       "       [0.   , 0.   , 0.   , 0.   , 0.   , 0.   , 0.   ]])"
      ]
     },
     "execution_count": 234,
     "metadata": {},
     "output_type": "execute_result"
    }
   ],
   "source": [
    "np.round(t,3)"
   ]
  },
  {
   "cell_type": "code",
   "execution_count": 235,
   "metadata": {},
   "outputs": [
    {
     "data": {
      "text/plain": [
       "matrix([[ 0.27762871,  0.58678435,  0.86385561,  0.11753186],\n",
       "        [ 0.51737911,  0.13206811,  0.71685968,  0.3960597 ],\n",
       "        [ 0.56542131,  0.18327984,  0.14484776,  0.48805628],\n",
       "        [ 0.35561274,  0.94043195,  0.76532525,  0.74866362],\n",
       "        [ 0.90371974,  0.08342244,  0.55219247,  0.58447607],\n",
       "        [ 0.96193638,  0.29214753,  0.24082878,  0.10029394],\n",
       "        [ 0.23170163,  0.94931882,  0.9413777 ,  0.79920259],\n",
       "        [-3.0048195 , -3.73383348, -4.02064547, -1.31882738]])"
      ]
     },
     "execution_count": 235,
     "metadata": {},
     "output_type": "execute_result"
    }
   ],
   "source": [
    "output[\"OTU\"]"
   ]
  },
  {
   "cell_type": "code",
   "execution_count": 239,
   "metadata": {},
   "outputs": [],
   "source": [
    "q,r=qr(output[\"OTU\"][:-1,:])"
   ]
  },
  {
   "cell_type": "code",
   "execution_count": 244,
   "metadata": {},
   "outputs": [
    {
     "data": {
      "text/plain": [
       "matrix([[ 0.04766462, -0.10283458,  0.22031977, -0.05010988,  0.18896534,\n",
       "          0.86248785, -0.29008228],\n",
       "        [ 0.17366998, -0.91897015,  0.06051231,  0.63216853, -0.75402089,\n",
       "          0.82332381,  0.24883937],\n",
       "        [ 0.8056638 ,  0.90091707, -0.56436891, -0.40578897,  0.28051735,\n",
       "         -0.50317251,  0.01782351],\n",
       "        [-1.00888002,  0.12841614,  0.62917102,  0.29835693,  0.51422355,\n",
       "         -0.83778529,  0.40133587]])"
      ]
     },
     "execution_count": 244,
     "metadata": {},
     "output_type": "execute_result"
    }
   ],
   "source": [
    "inv(r).dot(q.T).dot()"
   ]
  },
  {
   "cell_type": "code",
   "execution_count": 241,
   "metadata": {},
   "outputs": [],
   "source": [
    "# p = np.dot(q.T, b)\n",
    "# np.dot(LA.inv(r), p)"
   ]
  },
  {
   "cell_type": "code",
   "execution_count": null,
   "metadata": {},
   "outputs": [],
   "source": []
  },
  {
   "cell_type": "code",
   "execution_count": null,
   "metadata": {},
   "outputs": [],
   "source": []
  },
  {
   "cell_type": "code",
   "execution_count": null,
   "metadata": {},
   "outputs": [],
   "source": []
  },
  {
   "cell_type": "code",
   "execution_count": 116,
   "metadata": {},
   "outputs": [
    {
     "data": {
      "text/plain": [
       "matrix([[0.53383989]])"
      ]
     },
     "execution_count": 116,
     "metadata": {},
     "output_type": "execute_result"
    }
   ],
   "source": [
    "b=inv(X.T.dot(X)).dot(X.T).dot(y)\n",
    "b"
   ]
  },
  {
   "cell_type": "code",
   "execution_count": 118,
   "metadata": {},
   "outputs": [
    {
     "data": {
      "text/plain": [
       "matrix([[ 0.29297854],\n",
       "        [ 0.32177913],\n",
       "        [ 0.22616383],\n",
       "        [-1.49438647]])"
      ]
     },
     "metadata": {},
     "output_type": "display_data"
    },
    {
     "data": {
      "text/plain": [
       "matrix([[1.27435369],\n",
       "        [1.24562081]])"
      ]
     },
     "metadata": {},
     "output_type": "display_data"
    }
   ],
   "source": [
    "yhat=X.dot(b)\n",
    "display(yhat,Y)"
   ]
  },
  {
   "cell_type": "markdown",
   "metadata": {},
   "source": [
    "-> QR decomposition"
   ]
  },
  {
   "cell_type": "code",
   "execution_count": 82,
   "metadata": {},
   "outputs": [
    {
     "data": {
      "text/plain": [
       "matrix([[-0.63543597, -0.7675895 ],\n",
       "        [-0.03644378, -0.07863182],\n",
       "        [-0.77129306,  0.63610014]])"
      ]
     },
     "metadata": {},
     "output_type": "display_data"
    },
    {
     "data": {
      "text/plain": [
       "matrix([[-0.9193773 , -0.59439329],\n",
       "        [ 0.        , -0.20851847]])"
      ]
     },
     "metadata": {},
     "output_type": "display_data"
    }
   ],
   "source": [
    "Q,R=qr(X)\n",
    "display(Q,R)"
   ]
  },
  {
   "cell_type": "code",
   "execution_count": 83,
   "metadata": {},
   "outputs": [
    {
     "data": {
      "text/plain": [
       "matrix([[-6.03818892],\n",
       "        [-0.5437124 ],\n",
       "        [ 1.61356102]])"
      ]
     },
     "metadata": {},
     "output_type": "display_data"
    }
   ],
   "source": [
    "b=inv(R).dot(Q.T).T.dot(y)\n",
    "display(b)"
   ]
  },
  {
   "cell_type": "code",
   "execution_count": 86,
   "metadata": {},
   "outputs": [
    {
     "data": {
      "text/plain": [
       "matrix([[-2.40156885],\n",
       "        [-2.74204299]])"
      ]
     },
     "metadata": {},
     "output_type": "display_data"
    },
    {
     "data": {
      "text/plain": [
       "matrix([[-2.40156885],\n",
       "        [-2.74204299]])"
      ]
     },
     "metadata": {},
     "output_type": "display_data"
    }
   ],
   "source": [
    "yhat=X.T.dot(b)\n",
    "display(yhat,y)"
   ]
  },
  {
   "cell_type": "code",
   "execution_count": 105,
   "metadata": {},
   "outputs": [
    {
     "data": {
      "text/plain": [
       "array([[ 0.5488135 ,  0.71518937],\n",
       "       [-2.34461651, -7.91456451]])"
      ]
     },
     "execution_count": 105,
     "metadata": {},
     "output_type": "execute_result"
    }
   ],
   "source": [
    "np.random.seed(0)\n",
    "simple_mediation(2)['OTU']"
   ]
  },
  {
   "cell_type": "code",
   "execution_count": 104,
   "metadata": {},
   "outputs": [
    {
     "data": {
      "text/plain": [
       "matrix([[ 0.5488135 ,  0.71518937],\n",
       "        [ 0.60276338,  0.54488318],\n",
       "        [ 0.4236548 ,  0.64589411],\n",
       "        [-2.79931588, -1.30004802]])"
      ]
     },
     "execution_count": 104,
     "metadata": {},
     "output_type": "execute_result"
    }
   ],
   "source": [
    "output[\"OTU\"]"
   ]
  },
  {
   "cell_type": "code",
   "execution_count": null,
   "metadata": {},
   "outputs": [],
   "source": []
  },
  {
   "cell_type": "markdown",
   "metadata": {},
   "source": [
    "<hr>"
   ]
  },
  {
   "cell_type": "code",
   "execution_count": 113,
   "metadata": {},
   "outputs": [],
   "source": [
    "output=simulate_simple_mediation(2,4,2)"
   ]
  },
  {
   "cell_type": "code",
   "execution_count": 103,
   "metadata": {},
   "outputs": [],
   "source": [
    "temp=simple_mediation_direct(2)"
   ]
  },
  {
   "cell_type": "code",
   "execution_count": 104,
   "metadata": {},
   "outputs": [
    {
     "data": {
      "text/plain": [
       "{'OTU': array([[ 0.53600357,  0.03278812],\n",
       "        [-1.75817784, -0.01439248]]),\n",
       " 'Metabolite': array([[ 1.9770727 , -0.09877941]])}"
      ]
     },
     "execution_count": 104,
     "metadata": {},
     "output_type": "execute_result"
    }
   ],
   "source": [
    "temp"
   ]
  },
  {
   "cell_type": "code",
   "execution_count": 105,
   "metadata": {},
   "outputs": [
    {
     "data": {
      "text/plain": [
       "array([[0.96556086, 0.63188856],\n",
       "       [0.18718298, 0.75499973]])"
      ]
     },
     "execution_count": 105,
     "metadata": {},
     "output_type": "execute_result"
    }
   ],
   "source": [
    "otutable"
   ]
  },
  {
   "cell_type": "code",
   "execution_count": 106,
   "metadata": {},
   "outputs": [
    {
     "data": {
      "text/plain": [
       "array([[ 0.53600357,  0.03278812],\n",
       "       [-1.75817784, -0.01439248]])"
      ]
     },
     "execution_count": 106,
     "metadata": {},
     "output_type": "execute_result"
    }
   ],
   "source": [
    "temp[\"OTU\"]"
   ]
  },
  {
   "cell_type": "code",
   "execution_count": 110,
   "metadata": {},
   "outputs": [
    {
     "data": {
      "text/plain": [
       "array([[[ 0.96556086,  0.63188856],\n",
       "        [ 0.18718298,  0.75499973]],\n",
       "\n",
       "       [[ 0.53600357,  0.03278812],\n",
       "        [-1.75817784, -0.01439248]]])"
      ]
     },
     "execution_count": 110,
     "metadata": {},
     "output_type": "execute_result"
    }
   ],
   "source": [
    "np.stack([otutable,temp[\"OTU\"]],axis=0)"
   ]
  },
  {
   "cell_type": "code",
   "execution_count": 114,
   "metadata": {},
   "outputs": [
    {
     "data": {
      "text/plain": [
       "'OTU'"
      ]
     },
     "metadata": {},
     "output_type": "display_data"
    },
    {
     "data": {
      "text/plain": [
       "array([[ 0.78645644,  0.49210526],\n",
       "       [ 0.60425343,  0.60293061],\n",
       "       [ 0.85324443,  0.89717775],\n",
       "       [-2.69355103, -0.69199418]])"
      ]
     },
     "metadata": {},
     "output_type": "display_data"
    },
    {
     "data": {
      "text/plain": [
       "'Metabolite'"
      ]
     },
     "metadata": {},
     "output_type": "display_data"
    },
    {
     "data": {
      "text/plain": [
       "array([[0.11033147, 0.76258593],\n",
       "       [1.73951789, 1.64841864]])"
      ]
     },
     "metadata": {},
     "output_type": "display_data"
    },
    {
     "data": {
      "text/plain": [
       "'OtuAnn'"
      ]
     },
     "metadata": {},
     "output_type": "display_data"
    },
    {
     "data": {
      "text/plain": [
       "{'Species': ['OTU1', 'OTU2', 'OTU3', 'OTU4']}"
      ]
     },
     "metadata": {},
     "output_type": "display_data"
    },
    {
     "data": {
      "text/plain": [
       "'MetAnn'"
      ]
     },
     "metadata": {},
     "output_type": "display_data"
    },
    {
     "data": {
      "text/plain": [
       "{'Species': ['M1 Mediator', 'M2 Mediator']}"
      ]
     },
     "metadata": {},
     "output_type": "display_data"
    }
   ],
   "source": [
    "for key in output.keys():\n",
    "    display(key,output[key])"
   ]
  },
  {
   "cell_type": "code",
   "execution_count": null,
   "metadata": {},
   "outputs": [],
   "source": []
  }
 ],
 "metadata": {
  "kernelspec": {
   "display_name": "Python 3",
   "language": "python",
   "name": "python3"
  },
  "language_info": {
   "codemirror_mode": {
    "name": "ipython",
    "version": 3
   },
   "file_extension": ".py",
   "mimetype": "text/x-python",
   "name": "python",
   "nbconvert_exporter": "python",
   "pygments_lexer": "ipython3",
   "version": "3.7.3"
  }
 },
 "nbformat": 4,
 "nbformat_minor": 2
}
